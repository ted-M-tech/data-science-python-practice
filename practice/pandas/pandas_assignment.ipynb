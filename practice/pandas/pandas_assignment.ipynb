{
 "cells": [
  {
   "cell_type": "markdown",
   "id": "af863795",
   "metadata": {},
   "source": [
    "# Question for Dataset1"
   ]
  },
  {
   "cell_type": "markdown",
   "id": "3fe0b163",
   "metadata": {},
   "source": [
    "1. Basic DataFrame Operations:\n",
    "- Load the dataset into a Pandas DataFrame.\n",
    "- Display the first 5 rows of the DataFrame.\n",
    "- Display the summary statistics of the DataFrame.\n",
    "- Display the column names of the DataFrame.\n",
    "- Count the number of male and female students.\n"
   ]
  },
  {
   "cell_type": "code",
   "execution_count": 39,
   "id": "ea31b0ce",
   "metadata": {},
   "outputs": [
    {
     "data": {
      "text/html": [
       "<div>\n",
       "<style scoped>\n",
       "    .dataframe tbody tr th:only-of-type {\n",
       "        vertical-align: middle;\n",
       "    }\n",
       "\n",
       "    .dataframe tbody tr th {\n",
       "        vertical-align: top;\n",
       "    }\n",
       "\n",
       "    .dataframe thead th {\n",
       "        text-align: right;\n",
       "    }\n",
       "</style>\n",
       "<table border=\"1\" class=\"dataframe\">\n",
       "  <thead>\n",
       "    <tr style=\"text-align: right;\">\n",
       "      <th></th>\n",
       "      <th>StudentID</th>\n",
       "      <th>Name</th>\n",
       "      <th>Age</th>\n",
       "      <th>Gender</th>\n",
       "      <th>Math</th>\n",
       "      <th>Science</th>\n",
       "      <th>English</th>\n",
       "      <th>History</th>\n",
       "      <th>Physical_Education</th>\n",
       "    </tr>\n",
       "  </thead>\n",
       "  <tbody>\n",
       "    <tr>\n",
       "      <th>0</th>\n",
       "      <td>1</td>\n",
       "      <td>John</td>\n",
       "      <td>16</td>\n",
       "      <td>M</td>\n",
       "      <td>85</td>\n",
       "      <td>92</td>\n",
       "      <td>78</td>\n",
       "      <td>84</td>\n",
       "      <td>90</td>\n",
       "    </tr>\n",
       "    <tr>\n",
       "      <th>1</th>\n",
       "      <td>2</td>\n",
       "      <td>Alice</td>\n",
       "      <td>15</td>\n",
       "      <td>F</td>\n",
       "      <td>79</td>\n",
       "      <td>95</td>\n",
       "      <td>88</td>\n",
       "      <td>92</td>\n",
       "      <td>87</td>\n",
       "    </tr>\n",
       "    <tr>\n",
       "      <th>2</th>\n",
       "      <td>3</td>\n",
       "      <td>Bob</td>\n",
       "      <td>16</td>\n",
       "      <td>M</td>\n",
       "      <td>90</td>\n",
       "      <td>85</td>\n",
       "      <td>86</td>\n",
       "      <td>88</td>\n",
       "      <td>95</td>\n",
       "    </tr>\n",
       "    <tr>\n",
       "      <th>3</th>\n",
       "      <td>4</td>\n",
       "      <td>Carol</td>\n",
       "      <td>15</td>\n",
       "      <td>F</td>\n",
       "      <td>77</td>\n",
       "      <td>89</td>\n",
       "      <td>90</td>\n",
       "      <td>81</td>\n",
       "      <td>85</td>\n",
       "    </tr>\n",
       "    <tr>\n",
       "      <th>4</th>\n",
       "      <td>5</td>\n",
       "      <td>David</td>\n",
       "      <td>16</td>\n",
       "      <td>M</td>\n",
       "      <td>92</td>\n",
       "      <td>80</td>\n",
       "      <td>79</td>\n",
       "      <td>85</td>\n",
       "      <td>92</td>\n",
       "    </tr>\n",
       "  </tbody>\n",
       "</table>\n",
       "</div>"
      ],
      "text/plain": [
       "   StudentID   Name  Age Gender  Math  Science  English  History  \\\n",
       "0          1   John   16      M    85       92       78       84   \n",
       "1          2  Alice   15      F    79       95       88       92   \n",
       "2          3    Bob   16      M    90       85       86       88   \n",
       "3          4  Carol   15      F    77       89       90       81   \n",
       "4          5  David   16      M    92       80       79       85   \n",
       "\n",
       "   Physical_Education  \n",
       "0                  90  \n",
       "1                  87  \n",
       "2                  95  \n",
       "3                  85  \n",
       "4                  92  "
      ]
     },
     "execution_count": 39,
     "metadata": {},
     "output_type": "execute_result"
    }
   ],
   "source": [
    "import pandas as pd\n",
    "\n",
    "students_grades = pd.read_csv('students_grades.csv')\n",
    "students_grades.head()"
   ]
  },
  {
   "cell_type": "code",
   "execution_count": null,
   "id": "1af6681c",
   "metadata": {},
   "outputs": [
    {
     "data": {
      "text/html": [
       "<div>\n",
       "<style scoped>\n",
       "    .dataframe tbody tr th:only-of-type {\n",
       "        vertical-align: middle;\n",
       "    }\n",
       "\n",
       "    .dataframe tbody tr th {\n",
       "        vertical-align: top;\n",
       "    }\n",
       "\n",
       "    .dataframe thead th {\n",
       "        text-align: right;\n",
       "    }\n",
       "</style>\n",
       "<table border=\"1\" class=\"dataframe\">\n",
       "  <thead>\n",
       "    <tr style=\"text-align: right;\">\n",
       "      <th></th>\n",
       "      <th>StudentID</th>\n",
       "      <th>Age</th>\n",
       "      <th>Math</th>\n",
       "      <th>Science</th>\n",
       "      <th>English</th>\n",
       "      <th>History</th>\n",
       "      <th>Physical_Education</th>\n",
       "    </tr>\n",
       "  </thead>\n",
       "  <tbody>\n",
       "    <tr>\n",
       "      <th>count</th>\n",
       "      <td>10.00000</td>\n",
       "      <td>10.000000</td>\n",
       "      <td>10.000000</td>\n",
       "      <td>10.000000</td>\n",
       "      <td>10.000000</td>\n",
       "      <td>10.000000</td>\n",
       "      <td>10.000000</td>\n",
       "    </tr>\n",
       "    <tr>\n",
       "      <th>mean</th>\n",
       "      <td>5.50000</td>\n",
       "      <td>15.500000</td>\n",
       "      <td>83.500000</td>\n",
       "      <td>88.400000</td>\n",
       "      <td>84.800000</td>\n",
       "      <td>85.600000</td>\n",
       "      <td>89.200000</td>\n",
       "    </tr>\n",
       "    <tr>\n",
       "      <th>std</th>\n",
       "      <td>3.02765</td>\n",
       "      <td>0.527046</td>\n",
       "      <td>5.642104</td>\n",
       "      <td>4.623611</td>\n",
       "      <td>4.077036</td>\n",
       "      <td>4.299871</td>\n",
       "      <td>3.119829</td>\n",
       "    </tr>\n",
       "    <tr>\n",
       "      <th>min</th>\n",
       "      <td>1.00000</td>\n",
       "      <td>15.000000</td>\n",
       "      <td>75.000000</td>\n",
       "      <td>80.000000</td>\n",
       "      <td>78.000000</td>\n",
       "      <td>78.000000</td>\n",
       "      <td>85.000000</td>\n",
       "    </tr>\n",
       "    <tr>\n",
       "      <th>25%</th>\n",
       "      <td>3.25000</td>\n",
       "      <td>15.000000</td>\n",
       "      <td>79.250000</td>\n",
       "      <td>85.500000</td>\n",
       "      <td>82.500000</td>\n",
       "      <td>83.250000</td>\n",
       "      <td>87.250000</td>\n",
       "    </tr>\n",
       "    <tr>\n",
       "      <th>50%</th>\n",
       "      <td>5.50000</td>\n",
       "      <td>15.500000</td>\n",
       "      <td>84.500000</td>\n",
       "      <td>89.500000</td>\n",
       "      <td>85.500000</td>\n",
       "      <td>85.500000</td>\n",
       "      <td>89.500000</td>\n",
       "    </tr>\n",
       "    <tr>\n",
       "      <th>75%</th>\n",
       "      <td>7.75000</td>\n",
       "      <td>16.000000</td>\n",
       "      <td>87.250000</td>\n",
       "      <td>91.750000</td>\n",
       "      <td>87.750000</td>\n",
       "      <td>88.750000</td>\n",
       "      <td>90.750000</td>\n",
       "    </tr>\n",
       "    <tr>\n",
       "      <th>max</th>\n",
       "      <td>10.00000</td>\n",
       "      <td>16.000000</td>\n",
       "      <td>92.000000</td>\n",
       "      <td>95.000000</td>\n",
       "      <td>90.000000</td>\n",
       "      <td>92.000000</td>\n",
       "      <td>95.000000</td>\n",
       "    </tr>\n",
       "  </tbody>\n",
       "</table>\n",
       "</div>"
      ],
      "text/plain": [
       "       StudentID        Age       Math    Science    English    History  \\\n",
       "count   10.00000  10.000000  10.000000  10.000000  10.000000  10.000000   \n",
       "mean     5.50000  15.500000  83.500000  88.400000  84.800000  85.600000   \n",
       "std      3.02765   0.527046   5.642104   4.623611   4.077036   4.299871   \n",
       "min      1.00000  15.000000  75.000000  80.000000  78.000000  78.000000   \n",
       "25%      3.25000  15.000000  79.250000  85.500000  82.500000  83.250000   \n",
       "50%      5.50000  15.500000  84.500000  89.500000  85.500000  85.500000   \n",
       "75%      7.75000  16.000000  87.250000  91.750000  87.750000  88.750000   \n",
       "max     10.00000  16.000000  92.000000  95.000000  90.000000  92.000000   \n",
       "\n",
       "       Physical_Education  \n",
       "count           10.000000  \n",
       "mean            89.200000  \n",
       "std              3.119829  \n",
       "min             85.000000  \n",
       "25%             87.250000  \n",
       "50%             89.500000  \n",
       "75%             90.750000  \n",
       "max             95.000000  "
      ]
     },
     "execution_count": 10,
     "metadata": {},
     "output_type": "execute_result"
    }
   ],
   "source": [
    "students_grades.describe()"
   ]
  },
  {
   "cell_type": "code",
   "execution_count": 13,
   "id": "a00eef16",
   "metadata": {},
   "outputs": [
    {
     "name": "stdout",
     "output_type": "stream",
     "text": [
      "<class 'pandas.core.frame.DataFrame'>\n",
      "RangeIndex: 10 entries, 0 to 9\n",
      "Data columns (total 10 columns):\n",
      " #   Column              Non-Null Count  Dtype \n",
      "---  ------              --------------  ----- \n",
      " 0   StudentID           10 non-null     int64 \n",
      " 1   Name                10 non-null     object\n",
      " 2   Age                 10 non-null     int64 \n",
      " 3   Gender              10 non-null     object\n",
      " 4   Math                10 non-null     int64 \n",
      " 5   Science             10 non-null     int64 \n",
      " 6   English             10 non-null     int64 \n",
      " 7   History             10 non-null     int64 \n",
      " 8   Physical_Education  10 non-null     int64 \n",
      " 9   Total_Grades        10 non-null     int64 \n",
      "dtypes: int64(8), object(2)\n",
      "memory usage: 932.0+ bytes\n"
     ]
    }
   ],
   "source": [
    "students_grades.info()"
   ]
  },
  {
   "cell_type": "code",
   "execution_count": 22,
   "id": "5ef49eac",
   "metadata": {},
   "outputs": [
    {
     "data": {
      "text/plain": [
       "Gender\n",
       "F    30\n",
       "M    25\n",
       "Name: StudentID, dtype: int64"
      ]
     },
     "execution_count": 22,
     "metadata": {},
     "output_type": "execute_result"
    }
   ],
   "source": [
    "gender_grouped = students_grades.groupby('Gender')['StudentID'].sum()\n",
    "gender_grouped"
   ]
  },
  {
   "cell_type": "markdown",
   "id": "312ad237",
   "metadata": {},
   "source": [
    "# 2. Filtering and Subsetting:\n",
    "\n",
    "- Filter the DataFrame to show only students who are 16 years old.\n",
    "- Filter the DataFrame to show only female students.\n",
    "- Filter the DataFrame to show students with Math scores above 85.\n",
    "- Select the Name and Total_Grades columns for all students.\n",
    "- Pandas Lab2Calculate the average Math score for male and female students.\n"
   ]
  },
  {
   "cell_type": "code",
   "execution_count": 40,
   "id": "2fa233e2",
   "metadata": {},
   "outputs": [
    {
     "name": "stdout",
     "output_type": "stream",
     "text": [
      "Students who are 16 years old:\n"
     ]
    },
    {
     "data": {
      "text/html": [
       "<div>\n",
       "<style scoped>\n",
       "    .dataframe tbody tr th:only-of-type {\n",
       "        vertical-align: middle;\n",
       "    }\n",
       "\n",
       "    .dataframe tbody tr th {\n",
       "        vertical-align: top;\n",
       "    }\n",
       "\n",
       "    .dataframe thead th {\n",
       "        text-align: right;\n",
       "    }\n",
       "</style>\n",
       "<table border=\"1\" class=\"dataframe\">\n",
       "  <thead>\n",
       "    <tr style=\"text-align: right;\">\n",
       "      <th></th>\n",
       "      <th>StudentID</th>\n",
       "      <th>Name</th>\n",
       "      <th>Age</th>\n",
       "      <th>Gender</th>\n",
       "      <th>Math</th>\n",
       "      <th>Science</th>\n",
       "      <th>English</th>\n",
       "      <th>History</th>\n",
       "      <th>Physical_Education</th>\n",
       "    </tr>\n",
       "  </thead>\n",
       "  <tbody>\n",
       "    <tr>\n",
       "      <th>0</th>\n",
       "      <td>1</td>\n",
       "      <td>John</td>\n",
       "      <td>16</td>\n",
       "      <td>M</td>\n",
       "      <td>85</td>\n",
       "      <td>92</td>\n",
       "      <td>78</td>\n",
       "      <td>84</td>\n",
       "      <td>90</td>\n",
       "    </tr>\n",
       "    <tr>\n",
       "      <th>2</th>\n",
       "      <td>3</td>\n",
       "      <td>Bob</td>\n",
       "      <td>16</td>\n",
       "      <td>M</td>\n",
       "      <td>90</td>\n",
       "      <td>85</td>\n",
       "      <td>86</td>\n",
       "      <td>88</td>\n",
       "      <td>95</td>\n",
       "    </tr>\n",
       "    <tr>\n",
       "      <th>4</th>\n",
       "      <td>5</td>\n",
       "      <td>David</td>\n",
       "      <td>16</td>\n",
       "      <td>M</td>\n",
       "      <td>92</td>\n",
       "      <td>80</td>\n",
       "      <td>79</td>\n",
       "      <td>85</td>\n",
       "      <td>92</td>\n",
       "    </tr>\n",
       "    <tr>\n",
       "      <th>6</th>\n",
       "      <td>7</td>\n",
       "      <td>Frank</td>\n",
       "      <td>16</td>\n",
       "      <td>M</td>\n",
       "      <td>75</td>\n",
       "      <td>90</td>\n",
       "      <td>82</td>\n",
       "      <td>78</td>\n",
       "      <td>88</td>\n",
       "    </tr>\n",
       "    <tr>\n",
       "      <th>8</th>\n",
       "      <td>9</td>\n",
       "      <td>Henry</td>\n",
       "      <td>16</td>\n",
       "      <td>M</td>\n",
       "      <td>88</td>\n",
       "      <td>83</td>\n",
       "      <td>87</td>\n",
       "      <td>86</td>\n",
       "      <td>85</td>\n",
       "    </tr>\n",
       "  </tbody>\n",
       "</table>\n",
       "</div>"
      ],
      "text/plain": [
       "   StudentID   Name  Age Gender  Math  Science  English  History  \\\n",
       "0          1   John   16      M    85       92       78       84   \n",
       "2          3    Bob   16      M    90       85       86       88   \n",
       "4          5  David   16      M    92       80       79       85   \n",
       "6          7  Frank   16      M    75       90       82       78   \n",
       "8          9  Henry   16      M    88       83       87       86   \n",
       "\n",
       "   Physical_Education  \n",
       "0                  90  \n",
       "2                  95  \n",
       "4                  92  \n",
       "6                  88  \n",
       "8                  85  "
      ]
     },
     "execution_count": 40,
     "metadata": {},
     "output_type": "execute_result"
    }
   ],
   "source": [
    "sixteen_year_olds = students_grades[students_grades[\"Age\"] == 16]\n",
    "print(\"Students who are 16 years old:\")\n",
    "sixteen_year_olds"
   ]
  },
  {
   "cell_type": "code",
   "execution_count": 41,
   "id": "ef5d2be5",
   "metadata": {},
   "outputs": [
    {
     "name": "stdout",
     "output_type": "stream",
     "text": [
      "Female students:\n"
     ]
    },
    {
     "data": {
      "text/html": [
       "<div>\n",
       "<style scoped>\n",
       "    .dataframe tbody tr th:only-of-type {\n",
       "        vertical-align: middle;\n",
       "    }\n",
       "\n",
       "    .dataframe tbody tr th {\n",
       "        vertical-align: top;\n",
       "    }\n",
       "\n",
       "    .dataframe thead th {\n",
       "        text-align: right;\n",
       "    }\n",
       "</style>\n",
       "<table border=\"1\" class=\"dataframe\">\n",
       "  <thead>\n",
       "    <tr style=\"text-align: right;\">\n",
       "      <th></th>\n",
       "      <th>StudentID</th>\n",
       "      <th>Name</th>\n",
       "      <th>Age</th>\n",
       "      <th>Gender</th>\n",
       "      <th>Math</th>\n",
       "      <th>Science</th>\n",
       "      <th>English</th>\n",
       "      <th>History</th>\n",
       "      <th>Physical_Education</th>\n",
       "    </tr>\n",
       "  </thead>\n",
       "  <tbody>\n",
       "    <tr>\n",
       "      <th>1</th>\n",
       "      <td>2</td>\n",
       "      <td>Alice</td>\n",
       "      <td>15</td>\n",
       "      <td>F</td>\n",
       "      <td>79</td>\n",
       "      <td>95</td>\n",
       "      <td>88</td>\n",
       "      <td>92</td>\n",
       "      <td>87</td>\n",
       "    </tr>\n",
       "    <tr>\n",
       "      <th>3</th>\n",
       "      <td>4</td>\n",
       "      <td>Carol</td>\n",
       "      <td>15</td>\n",
       "      <td>F</td>\n",
       "      <td>77</td>\n",
       "      <td>89</td>\n",
       "      <td>90</td>\n",
       "      <td>81</td>\n",
       "      <td>85</td>\n",
       "    </tr>\n",
       "    <tr>\n",
       "      <th>5</th>\n",
       "      <td>6</td>\n",
       "      <td>Eve</td>\n",
       "      <td>15</td>\n",
       "      <td>F</td>\n",
       "      <td>85</td>\n",
       "      <td>87</td>\n",
       "      <td>84</td>\n",
       "      <td>89</td>\n",
       "      <td>90</td>\n",
       "    </tr>\n",
       "    <tr>\n",
       "      <th>7</th>\n",
       "      <td>8</td>\n",
       "      <td>Grace</td>\n",
       "      <td>15</td>\n",
       "      <td>F</td>\n",
       "      <td>80</td>\n",
       "      <td>92</td>\n",
       "      <td>85</td>\n",
       "      <td>90</td>\n",
       "      <td>91</td>\n",
       "    </tr>\n",
       "    <tr>\n",
       "      <th>9</th>\n",
       "      <td>10</td>\n",
       "      <td>Ivy</td>\n",
       "      <td>15</td>\n",
       "      <td>F</td>\n",
       "      <td>84</td>\n",
       "      <td>91</td>\n",
       "      <td>89</td>\n",
       "      <td>83</td>\n",
       "      <td>89</td>\n",
       "    </tr>\n",
       "  </tbody>\n",
       "</table>\n",
       "</div>"
      ],
      "text/plain": [
       "   StudentID   Name  Age Gender  Math  Science  English  History  \\\n",
       "1          2  Alice   15      F    79       95       88       92   \n",
       "3          4  Carol   15      F    77       89       90       81   \n",
       "5          6    Eve   15      F    85       87       84       89   \n",
       "7          8  Grace   15      F    80       92       85       90   \n",
       "9         10    Ivy   15      F    84       91       89       83   \n",
       "\n",
       "   Physical_Education  \n",
       "1                  87  \n",
       "3                  85  \n",
       "5                  90  \n",
       "7                  91  \n",
       "9                  89  "
      ]
     },
     "execution_count": 41,
     "metadata": {},
     "output_type": "execute_result"
    }
   ],
   "source": [
    "female_students = students_grades[students_grades[\"Gender\"] == \"F\"]\n",
    "print(\"Female students:\")\n",
    "female_students"
   ]
  },
  {
   "cell_type": "code",
   "execution_count": 42,
   "id": "b0bc5df4",
   "metadata": {},
   "outputs": [
    {
     "name": "stdout",
     "output_type": "stream",
     "text": [
      "Students with Math scores above 85:\n"
     ]
    },
    {
     "data": {
      "text/html": [
       "<div>\n",
       "<style scoped>\n",
       "    .dataframe tbody tr th:only-of-type {\n",
       "        vertical-align: middle;\n",
       "    }\n",
       "\n",
       "    .dataframe tbody tr th {\n",
       "        vertical-align: top;\n",
       "    }\n",
       "\n",
       "    .dataframe thead th {\n",
       "        text-align: right;\n",
       "    }\n",
       "</style>\n",
       "<table border=\"1\" class=\"dataframe\">\n",
       "  <thead>\n",
       "    <tr style=\"text-align: right;\">\n",
       "      <th></th>\n",
       "      <th>StudentID</th>\n",
       "      <th>Name</th>\n",
       "      <th>Age</th>\n",
       "      <th>Gender</th>\n",
       "      <th>Math</th>\n",
       "      <th>Science</th>\n",
       "      <th>English</th>\n",
       "      <th>History</th>\n",
       "      <th>Physical_Education</th>\n",
       "    </tr>\n",
       "  </thead>\n",
       "  <tbody>\n",
       "    <tr>\n",
       "      <th>2</th>\n",
       "      <td>3</td>\n",
       "      <td>Bob</td>\n",
       "      <td>16</td>\n",
       "      <td>M</td>\n",
       "      <td>90</td>\n",
       "      <td>85</td>\n",
       "      <td>86</td>\n",
       "      <td>88</td>\n",
       "      <td>95</td>\n",
       "    </tr>\n",
       "    <tr>\n",
       "      <th>4</th>\n",
       "      <td>5</td>\n",
       "      <td>David</td>\n",
       "      <td>16</td>\n",
       "      <td>M</td>\n",
       "      <td>92</td>\n",
       "      <td>80</td>\n",
       "      <td>79</td>\n",
       "      <td>85</td>\n",
       "      <td>92</td>\n",
       "    </tr>\n",
       "    <tr>\n",
       "      <th>8</th>\n",
       "      <td>9</td>\n",
       "      <td>Henry</td>\n",
       "      <td>16</td>\n",
       "      <td>M</td>\n",
       "      <td>88</td>\n",
       "      <td>83</td>\n",
       "      <td>87</td>\n",
       "      <td>86</td>\n",
       "      <td>85</td>\n",
       "    </tr>\n",
       "  </tbody>\n",
       "</table>\n",
       "</div>"
      ],
      "text/plain": [
       "   StudentID   Name  Age Gender  Math  Science  English  History  \\\n",
       "2          3    Bob   16      M    90       85       86       88   \n",
       "4          5  David   16      M    92       80       79       85   \n",
       "8          9  Henry   16      M    88       83       87       86   \n",
       "\n",
       "   Physical_Education  \n",
       "2                  95  \n",
       "4                  92  \n",
       "8                  85  "
      ]
     },
     "execution_count": 42,
     "metadata": {},
     "output_type": "execute_result"
    }
   ],
   "source": [
    "math_above_85 = students_grades[students_grades[\"Math\"] > 85]\n",
    "print(\"Students with Math scores above 85:\")\n",
    "math_above_85"
   ]
  },
  {
   "cell_type": "code",
   "execution_count": 43,
   "id": "27617406",
   "metadata": {},
   "outputs": [
    {
     "name": "stdout",
     "output_type": "stream",
     "text": [
      "Name and Total Grades:\n"
     ]
    },
    {
     "data": {
      "text/html": [
       "<div>\n",
       "<style scoped>\n",
       "    .dataframe tbody tr th:only-of-type {\n",
       "        vertical-align: middle;\n",
       "    }\n",
       "\n",
       "    .dataframe tbody tr th {\n",
       "        vertical-align: top;\n",
       "    }\n",
       "\n",
       "    .dataframe thead th {\n",
       "        text-align: right;\n",
       "    }\n",
       "</style>\n",
       "<table border=\"1\" class=\"dataframe\">\n",
       "  <thead>\n",
       "    <tr style=\"text-align: right;\">\n",
       "      <th></th>\n",
       "      <th>Name</th>\n",
       "      <th>Total_Grades</th>\n",
       "    </tr>\n",
       "  </thead>\n",
       "  <tbody>\n",
       "    <tr>\n",
       "      <th>0</th>\n",
       "      <td>John</td>\n",
       "      <td>429</td>\n",
       "    </tr>\n",
       "    <tr>\n",
       "      <th>1</th>\n",
       "      <td>Alice</td>\n",
       "      <td>441</td>\n",
       "    </tr>\n",
       "    <tr>\n",
       "      <th>2</th>\n",
       "      <td>Bob</td>\n",
       "      <td>444</td>\n",
       "    </tr>\n",
       "    <tr>\n",
       "      <th>3</th>\n",
       "      <td>Carol</td>\n",
       "      <td>422</td>\n",
       "    </tr>\n",
       "    <tr>\n",
       "      <th>4</th>\n",
       "      <td>David</td>\n",
       "      <td>428</td>\n",
       "    </tr>\n",
       "    <tr>\n",
       "      <th>5</th>\n",
       "      <td>Eve</td>\n",
       "      <td>435</td>\n",
       "    </tr>\n",
       "    <tr>\n",
       "      <th>6</th>\n",
       "      <td>Frank</td>\n",
       "      <td>413</td>\n",
       "    </tr>\n",
       "    <tr>\n",
       "      <th>7</th>\n",
       "      <td>Grace</td>\n",
       "      <td>438</td>\n",
       "    </tr>\n",
       "    <tr>\n",
       "      <th>8</th>\n",
       "      <td>Henry</td>\n",
       "      <td>429</td>\n",
       "    </tr>\n",
       "    <tr>\n",
       "      <th>9</th>\n",
       "      <td>Ivy</td>\n",
       "      <td>436</td>\n",
       "    </tr>\n",
       "  </tbody>\n",
       "</table>\n",
       "</div>"
      ],
      "text/plain": [
       "    Name  Total_Grades\n",
       "0   John           429\n",
       "1  Alice           441\n",
       "2    Bob           444\n",
       "3  Carol           422\n",
       "4  David           428\n",
       "5    Eve           435\n",
       "6  Frank           413\n",
       "7  Grace           438\n",
       "8  Henry           429\n",
       "9    Ivy           436"
      ]
     },
     "execution_count": 43,
     "metadata": {},
     "output_type": "execute_result"
    }
   ],
   "source": [
    "\n",
    "students_grades[\"Total_Grades\"] = students_grades[[\"Math\", \"Science\", \"English\", \"History\", \"Physical_Education\"]].sum(axis=1)\n",
    "print(\"Name and Total Grades:\")\n",
    "name_and_total_grades"
   ]
  },
  {
   "cell_type": "code",
   "execution_count": 44,
   "id": "bb7e2c35",
   "metadata": {},
   "outputs": [
    {
     "name": "stdout",
     "output_type": "stream",
     "text": [
      "Average Math score by gender:\n"
     ]
    },
    {
     "data": {
      "text/plain": [
       "Gender\n",
       "F    81.0\n",
       "M    86.0\n",
       "Name: Math, dtype: float64"
      ]
     },
     "execution_count": 44,
     "metadata": {},
     "output_type": "execute_result"
    }
   ],
   "source": [
    "name_and_total_grades = students_grades[[\"Name\", \"Total_Grades\"]]\n",
    "average_math_by_gender = students_grades.groupby(\"Gender\")[\"Math\"].mean()\n",
    "print(\"Average Math score by gender:\")\n",
    "average_math_by_gender"
   ]
  },
  {
   "cell_type": "markdown",
   "id": "979ec979",
   "metadata": {},
   "source": [
    "# 3. Aggregation and Grouping:\n",
    "- Calculate the average grade for each subject.\n",
    "- Calculate the average grade for each gender.\n",
    "- Calculate the total grades for each student (sum of all subjects).\n",
    "- Find the student with the highest total grade.\n",
    "- Calculate the average age of the students.\n"
   ]
  },
  {
   "cell_type": "code",
   "execution_count": 83,
   "id": "c915a924",
   "metadata": {},
   "outputs": [
    {
     "data": {
      "text/html": [
       "<div>\n",
       "<style scoped>\n",
       "    .dataframe tbody tr th:only-of-type {\n",
       "        vertical-align: middle;\n",
       "    }\n",
       "\n",
       "    .dataframe tbody tr th {\n",
       "        vertical-align: top;\n",
       "    }\n",
       "\n",
       "    .dataframe thead th {\n",
       "        text-align: right;\n",
       "    }\n",
       "</style>\n",
       "<table border=\"1\" class=\"dataframe\">\n",
       "  <thead>\n",
       "    <tr style=\"text-align: right;\">\n",
       "      <th></th>\n",
       "      <th>0</th>\n",
       "    </tr>\n",
       "  </thead>\n",
       "  <tbody>\n",
       "    <tr>\n",
       "      <th>Math</th>\n",
       "      <td>83.5</td>\n",
       "    </tr>\n",
       "    <tr>\n",
       "      <th>Science</th>\n",
       "      <td>88.4</td>\n",
       "    </tr>\n",
       "    <tr>\n",
       "      <th>English</th>\n",
       "      <td>84.8</td>\n",
       "    </tr>\n",
       "    <tr>\n",
       "      <th>History</th>\n",
       "      <td>85.6</td>\n",
       "    </tr>\n",
       "    <tr>\n",
       "      <th>Physical_Education</th>\n",
       "      <td>89.2</td>\n",
       "    </tr>\n",
       "  </tbody>\n",
       "</table>\n",
       "</div>"
      ],
      "text/plain": [
       "                       0\n",
       "Math                83.5\n",
       "Science             88.4\n",
       "English             84.8\n",
       "History             85.6\n",
       "Physical_Education  89.2"
      ]
     },
     "execution_count": 83,
     "metadata": {},
     "output_type": "execute_result"
    }
   ],
   "source": [
    "average_grade = pd.DataFrame(students_grades[[\"Math\", \"Science\", \"English\", \"History\", \"Physical_Education\"]].mean())\n",
    "average_grade"
   ]
  },
  {
   "cell_type": "code",
   "execution_count": 51,
   "id": "07ed9c33",
   "metadata": {},
   "outputs": [
    {
     "data": {
      "text/html": [
       "<div>\n",
       "<style scoped>\n",
       "    .dataframe tbody tr th:only-of-type {\n",
       "        vertical-align: middle;\n",
       "    }\n",
       "\n",
       "    .dataframe tbody tr th {\n",
       "        vertical-align: top;\n",
       "    }\n",
       "\n",
       "    .dataframe thead th {\n",
       "        text-align: right;\n",
       "    }\n",
       "</style>\n",
       "<table border=\"1\" class=\"dataframe\">\n",
       "  <thead>\n",
       "    <tr style=\"text-align: right;\">\n",
       "      <th></th>\n",
       "      <th>Math</th>\n",
       "      <th>Science</th>\n",
       "      <th>English</th>\n",
       "      <th>History</th>\n",
       "      <th>Physical_Education</th>\n",
       "    </tr>\n",
       "    <tr>\n",
       "      <th>Gender</th>\n",
       "      <th></th>\n",
       "      <th></th>\n",
       "      <th></th>\n",
       "      <th></th>\n",
       "      <th></th>\n",
       "    </tr>\n",
       "  </thead>\n",
       "  <tbody>\n",
       "    <tr>\n",
       "      <th>F</th>\n",
       "      <td>81.0</td>\n",
       "      <td>90.8</td>\n",
       "      <td>87.2</td>\n",
       "      <td>87.0</td>\n",
       "      <td>88.4</td>\n",
       "    </tr>\n",
       "    <tr>\n",
       "      <th>M</th>\n",
       "      <td>86.0</td>\n",
       "      <td>86.0</td>\n",
       "      <td>82.4</td>\n",
       "      <td>84.2</td>\n",
       "      <td>90.0</td>\n",
       "    </tr>\n",
       "  </tbody>\n",
       "</table>\n",
       "</div>"
      ],
      "text/plain": [
       "        Math  Science  English  History  Physical_Education\n",
       "Gender                                                     \n",
       "F       81.0     90.8     87.2     87.0                88.4\n",
       "M       86.0     86.0     82.4     84.2                90.0"
      ]
     },
     "execution_count": 51,
     "metadata": {},
     "output_type": "execute_result"
    }
   ],
   "source": [
    "students_grades.groupby('Gender')[[\"Math\", \"Science\", \"English\", \"History\", \"Physical_Education\"]].mean()"
   ]
  },
  {
   "cell_type": "code",
   "execution_count": 76,
   "id": "7526ea6c",
   "metadata": {},
   "outputs": [
    {
     "data": {
      "text/plain": [
       "Name\n",
       "Alice    441.0\n",
       "Bob      444.0\n",
       "Carol    422.0\n",
       "David    428.0\n",
       "Eve      435.0\n",
       "Frank    413.0\n",
       "Grace    438.0\n",
       "Henry    429.0\n",
       "Ivy      436.0\n",
       "John     429.0\n",
       "Name: Total_Grades, dtype: float64"
      ]
     },
     "execution_count": 76,
     "metadata": {},
     "output_type": "execute_result"
    }
   ],
   "source": [
    "name_grouped = students_grades.groupby('Name')['Total_Grades'].mean()\n",
    "name_grouped"
   ]
  },
  {
   "cell_type": "code",
   "execution_count": 78,
   "id": "0faaca22",
   "metadata": {},
   "outputs": [
    {
     "data": {
      "text/plain": [
       "Name\n",
       "Bob    444.0\n",
       "Name: Total_Grades, dtype: float64"
      ]
     },
     "execution_count": 78,
     "metadata": {},
     "output_type": "execute_result"
    }
   ],
   "source": [
    "highest = name_grouped.sort_values(ascending=False).iloc[:1]\n",
    "highest"
   ]
  },
  {
   "cell_type": "code",
   "execution_count": 80,
   "id": "5d9bc46e",
   "metadata": {},
   "outputs": [
    {
     "name": "stdout",
     "output_type": "stream",
     "text": [
      "15.5\n"
     ]
    }
   ],
   "source": [
    "average_age = students_grades['Age'].mean()\n",
    "print(average_age)"
   ]
  },
  {
   "cell_type": "markdown",
   "id": "79bacbe9",
   "metadata": {},
   "source": [
    "# 4. Data Visualization:\n",
    "- Create a bar plot showing the average grade for each subject.\n",
    "- Create a bar plot showing the total grades of each student.\n",
    "- Create a histogram showing the distribution of Math scores.\n",
    "- Create a box plot to show the distribution of grades for each subject.\n",
    "- Create a scatter plot showing the relationship between Math and Science scores."
   ]
  },
  {
   "cell_type": "code",
   "execution_count": 86,
   "id": "988bf521",
   "metadata": {},
   "outputs": [],
   "source": [
    "import matplotlib.pyplot as plt"
   ]
  },
  {
   "cell_type": "code",
   "execution_count": 102,
   "id": "5c2cc37c",
   "metadata": {},
   "outputs": [
    {
     "data": {
      "text/plain": [
       "<Figure size 1000x600 with 0 Axes>"
      ]
     },
     "metadata": {},
     "output_type": "display_data"
    },
    {
     "data": {
      "image/png": "[encoded data removed]",
      "text/plain": [
       "<Figure size 640x480 with 1 Axes>"
      ]
     },
     "metadata": {},
     "output_type": "display_data"
    }
   ],
   "source": [
    "# Average grade for each subject\n",
    "plt.figure(figsize=(10, 6))\n",
    "average_grade.plot(kind='bar')\n",
    "plt.title('Average Grade for Each Subject')\n",
    "plt.xlabel('Subjects')\n",
    "plt.ylabel('Average Grade')\n",
    "plt.xticks(rotation=45)\n",
    "plt.show()"
   ]
  },
  {
   "cell_type": "code",
   "execution_count": 167,
   "id": "bb4a59a8",
   "metadata": {},
   "outputs": [
    {
     "data": {
      "image/png": "[encoded data removed]",
      "text/plain": [
       "<Figure size 640x480 with 1 Axes>"
      ]
     },
     "metadata": {},
     "output_type": "display_data"
    }
   ],
   "source": [
    "# Total grade for each subject\n",
    "name_grouped.plot(kind='bar')\n",
    "plt.title('Total Grade for Each Subject')\n",
    "plt.xlabel('Subjects')\n",
    "plt.ylabel('Total Grade')\n",
    "plt.xticks(rotation=45)\n",
    "plt.show()"
   ]
  },
  {
   "cell_type": "code",
   "execution_count": 168,
   "id": "0b5d0caf",
   "metadata": {},
   "outputs": [
    {
     "data": {
      "image/png": "[encoded data removed]",
      "text/plain": [
       "<Figure size 640x480 with 1 Axes>"
      ]
     },
     "metadata": {},
     "output_type": "display_data"
    }
   ],
   "source": [
    "# Create histogram for Math scores distribution\n",
    "plt.hist(students_grades['Math'], bins=10, edgecolor='black')\n",
    "plt.title('Distribution of Math Scores')\n",
    "plt.xlabel('Math Scores')\n",
    "plt.ylabel('Frequency')\n",
    "plt.show()"
   ]
  },
  {
   "cell_type": "code",
   "execution_count": 169,
   "id": "d2168547",
   "metadata": {},
   "outputs": [
    {
     "data": {
      "image/png": "[encoded data removed]",
      "text/plain": [
       "<Figure size 640x480 with 1 Axes>"
      ]
     },
     "metadata": {},
     "output_type": "display_data"
    }
   ],
   "source": [
    "# Create box plot for all subjects\n",
    "subjects = ['Math', 'Science', 'English', 'History', 'Physical_Education']\n",
    "students_grades[subjects].boxplot()\n",
    "plt.title('Distribution of Grades for Each Subject')\n",
    "plt.xlabel('Subjects')\n",
    "plt.ylabel('Grades')\n",
    "plt.xticks(rotation=45)\n",
    "plt.show()"
   ]
  },
  {
   "cell_type": "code",
   "execution_count": 170,
   "id": "9cdc237d",
   "metadata": {},
   "outputs": [
    {
     "data": {
      "image/png": "[encoded data removed]",
      "text/plain": [
       "<Figure size 640x480 with 1 Axes>"
      ]
     },
     "metadata": {},
     "output_type": "display_data"
    }
   ],
   "source": [
    "# Create scatter plot for Math vs Science scores\n",
    "plt.scatter(students_grades['Math'], students_grades['Science'], s=100, edgecolors='black')\n",
    "plt.title('Relationship between Math and Science Scores')\n",
    "plt.xlabel('Math Scores')\n",
    "plt.ylabel('Science Scores')\n",
    "plt.grid(alpha=0.3)\n",
    "\n",
    "plt.show()"
   ]
  },
  {
   "cell_type": "markdown",
   "id": "87658990",
   "metadata": {},
   "source": [
    "# Questions for Dataset 2:"
   ]
  },
  {
   "cell_type": "markdown",
   "id": "954bf197",
   "metadata": {},
   "source": [
    "## 1. Basic DataFrame Operations:\n",
    "- Load the dataset into a Pandas DataFrame.\n",
    "- Display the first 5 rows of the DataFrame.\n",
    "- Display the summary statistics of the DataFrame.\n",
    "- Display the column names of the DataFrame.\n",
    "- Count the number of employees in each department."
   ]
  },
  {
   "cell_type": "code",
   "execution_count": 123,
   "id": "0e510010",
   "metadata": {},
   "outputs": [
    {
     "data": {
      "text/html": [
       "<div>\n",
       "<style scoped>\n",
       "    .dataframe tbody tr th:only-of-type {\n",
       "        vertical-align: middle;\n",
       "    }\n",
       "\n",
       "    .dataframe tbody tr th {\n",
       "        vertical-align: top;\n",
       "    }\n",
       "\n",
       "    .dataframe thead th {\n",
       "        text-align: right;\n",
       "    }\n",
       "</style>\n",
       "<table border=\"1\" class=\"dataframe\">\n",
       "  <thead>\n",
       "    <tr style=\"text-align: right;\">\n",
       "      <th></th>\n",
       "      <th>EmployeeID</th>\n",
       "      <th>Name</th>\n",
       "      <th>Age</th>\n",
       "      <th>Department</th>\n",
       "      <th>Salary</th>\n",
       "      <th>YearsAtCompany</th>\n",
       "    </tr>\n",
       "  </thead>\n",
       "  <tbody>\n",
       "    <tr>\n",
       "      <th>0</th>\n",
       "      <td>101</td>\n",
       "      <td>John Smith</td>\n",
       "      <td>28</td>\n",
       "      <td>Sales</td>\n",
       "      <td>60000</td>\n",
       "      <td>3</td>\n",
       "    </tr>\n",
       "    <tr>\n",
       "      <th>1</th>\n",
       "      <td>102</td>\n",
       "      <td>Jane Doe</td>\n",
       "      <td>34</td>\n",
       "      <td>Marketing</td>\n",
       "      <td>80000</td>\n",
       "      <td>7</td>\n",
       "    </tr>\n",
       "    <tr>\n",
       "      <th>2</th>\n",
       "      <td>103</td>\n",
       "      <td>Sam Johnson</td>\n",
       "      <td>45</td>\n",
       "      <td>HR</td>\n",
       "      <td>75000</td>\n",
       "      <td>10</td>\n",
       "    </tr>\n",
       "    <tr>\n",
       "      <th>3</th>\n",
       "      <td>104</td>\n",
       "      <td>Susan Lee</td>\n",
       "      <td>39</td>\n",
       "      <td>Finance</td>\n",
       "      <td>90000</td>\n",
       "      <td>5</td>\n",
       "    </tr>\n",
       "    <tr>\n",
       "      <th>4</th>\n",
       "      <td>105</td>\n",
       "      <td>Peter Brown</td>\n",
       "      <td>50</td>\n",
       "      <td>IT</td>\n",
       "      <td>95000</td>\n",
       "      <td>15</td>\n",
       "    </tr>\n",
       "  </tbody>\n",
       "</table>\n",
       "</div>"
      ],
      "text/plain": [
       "   EmployeeID         Name  Age Department  Salary  YearsAtCompany\n",
       "0         101   John Smith   28      Sales   60000               3\n",
       "1         102     Jane Doe   34  Marketing   80000               7\n",
       "2         103  Sam Johnson   45         HR   75000              10\n",
       "3         104    Susan Lee   39    Finance   90000               5\n",
       "4         105  Peter Brown   50         IT   95000              15"
      ]
     },
     "execution_count": 123,
     "metadata": {},
     "output_type": "execute_result"
    }
   ],
   "source": [
    "employee = pd.read_csv('employee_data.csv')\n",
    "employee.head()"
   ]
  },
  {
   "cell_type": "code",
   "execution_count": 124,
   "id": "8299a91e",
   "metadata": {},
   "outputs": [
    {
     "data": {
      "text/html": [
       "<div>\n",
       "<style scoped>\n",
       "    .dataframe tbody tr th:only-of-type {\n",
       "        vertical-align: middle;\n",
       "    }\n",
       "\n",
       "    .dataframe tbody tr th {\n",
       "        vertical-align: top;\n",
       "    }\n",
       "\n",
       "    .dataframe thead th {\n",
       "        text-align: right;\n",
       "    }\n",
       "</style>\n",
       "<table border=\"1\" class=\"dataframe\">\n",
       "  <thead>\n",
       "    <tr style=\"text-align: right;\">\n",
       "      <th></th>\n",
       "      <th>EmployeeID</th>\n",
       "      <th>Age</th>\n",
       "      <th>Salary</th>\n",
       "      <th>YearsAtCompany</th>\n",
       "    </tr>\n",
       "  </thead>\n",
       "  <tbody>\n",
       "    <tr>\n",
       "      <th>count</th>\n",
       "      <td>10.00000</td>\n",
       "      <td>10.000000</td>\n",
       "      <td>10.00000</td>\n",
       "      <td>10.000000</td>\n",
       "    </tr>\n",
       "    <tr>\n",
       "      <th>mean</th>\n",
       "      <td>105.50000</td>\n",
       "      <td>36.300000</td>\n",
       "      <td>76700.00000</td>\n",
       "      <td>7.100000</td>\n",
       "    </tr>\n",
       "    <tr>\n",
       "      <th>std</th>\n",
       "      <td>3.02765</td>\n",
       "      <td>7.660142</td>\n",
       "      <td>11343.62278</td>\n",
       "      <td>4.012481</td>\n",
       "    </tr>\n",
       "    <tr>\n",
       "      <th>min</th>\n",
       "      <td>101.00000</td>\n",
       "      <td>27.000000</td>\n",
       "      <td>60000.00000</td>\n",
       "      <td>2.000000</td>\n",
       "    </tr>\n",
       "    <tr>\n",
       "      <th>25%</th>\n",
       "      <td>103.25000</td>\n",
       "      <td>29.750000</td>\n",
       "      <td>70500.00000</td>\n",
       "      <td>4.250000</td>\n",
       "    </tr>\n",
       "    <tr>\n",
       "      <th>50%</th>\n",
       "      <td>105.50000</td>\n",
       "      <td>36.000000</td>\n",
       "      <td>76500.00000</td>\n",
       "      <td>6.500000</td>\n",
       "    </tr>\n",
       "    <tr>\n",
       "      <th>75%</th>\n",
       "      <td>107.75000</td>\n",
       "      <td>40.500000</td>\n",
       "      <td>83750.00000</td>\n",
       "      <td>9.500000</td>\n",
       "    </tr>\n",
       "    <tr>\n",
       "      <th>max</th>\n",
       "      <td>110.00000</td>\n",
       "      <td>50.000000</td>\n",
       "      <td>95000.00000</td>\n",
       "      <td>15.000000</td>\n",
       "    </tr>\n",
       "  </tbody>\n",
       "</table>\n",
       "</div>"
      ],
      "text/plain": [
       "       EmployeeID        Age       Salary  YearsAtCompany\n",
       "count    10.00000  10.000000     10.00000       10.000000\n",
       "mean    105.50000  36.300000  76700.00000        7.100000\n",
       "std       3.02765   7.660142  11343.62278        4.012481\n",
       "min     101.00000  27.000000  60000.00000        2.000000\n",
       "25%     103.25000  29.750000  70500.00000        4.250000\n",
       "50%     105.50000  36.000000  76500.00000        6.500000\n",
       "75%     107.75000  40.500000  83750.00000        9.500000\n",
       "max     110.00000  50.000000  95000.00000       15.000000"
      ]
     },
     "execution_count": 124,
     "metadata": {},
     "output_type": "execute_result"
    }
   ],
   "source": [
    "employee.describe()"
   ]
  },
  {
   "cell_type": "code",
   "execution_count": 125,
   "id": "cafba9f4",
   "metadata": {},
   "outputs": [
    {
     "name": "stdout",
     "output_type": "stream",
     "text": [
      "<class 'pandas.core.frame.DataFrame'>\n",
      "RangeIndex: 10 entries, 0 to 9\n",
      "Data columns (total 6 columns):\n",
      " #   Column          Non-Null Count  Dtype \n",
      "---  ------          --------------  ----- \n",
      " 0   EmployeeID      10 non-null     int64 \n",
      " 1   Name            10 non-null     object\n",
      " 2   Age             10 non-null     int64 \n",
      " 3   Department      10 non-null     object\n",
      " 4   Salary          10 non-null     int64 \n",
      " 5   YearsAtCompany  10 non-null     int64 \n",
      "dtypes: int64(4), object(2)\n",
      "memory usage: 612.0+ bytes\n"
     ]
    }
   ],
   "source": [
    "employee.info()"
   ]
  },
  {
   "cell_type": "code",
   "execution_count": 127,
   "id": "f9983317",
   "metadata": {},
   "outputs": [
    {
     "data": {
      "text/plain": [
       "Department\n",
       "Sales        2\n",
       "Marketing    2\n",
       "HR           2\n",
       "Finance      2\n",
       "IT           2\n",
       "Name: count, dtype: int64"
      ]
     },
     "execution_count": 127,
     "metadata": {},
     "output_type": "execute_result"
    }
   ],
   "source": [
    "employee_each_department = employee['Department'].value_counts()\n",
    "employee_each_department"
   ]
  },
  {
   "cell_type": "markdown",
   "id": "4b4d0907",
   "metadata": {},
   "source": [
    "## 2. Filtering and Subsetting:\n",
    "- Filter the DataFrame to show only employees who are older than 40.\n",
    "- Filter the DataFrame to show only employees in the 'IT' department.\n",
    "- Filter the DataFrame to show employees with a salary above 75000.\n",
    "- Select the Name and Salary columns for all employees.\n",
    "- Calculate the average salary for each department."
   ]
  },
  {
   "cell_type": "code",
   "execution_count": 128,
   "id": "1e3dc75e",
   "metadata": {},
   "outputs": [
    {
     "data": {
      "text/html": [
       "<div>\n",
       "<style scoped>\n",
       "    .dataframe tbody tr th:only-of-type {\n",
       "        vertical-align: middle;\n",
       "    }\n",
       "\n",
       "    .dataframe tbody tr th {\n",
       "        vertical-align: top;\n",
       "    }\n",
       "\n",
       "    .dataframe thead th {\n",
       "        text-align: right;\n",
       "    }\n",
       "</style>\n",
       "<table border=\"1\" class=\"dataframe\">\n",
       "  <thead>\n",
       "    <tr style=\"text-align: right;\">\n",
       "      <th></th>\n",
       "      <th>EmployeeID</th>\n",
       "      <th>Name</th>\n",
       "      <th>Age</th>\n",
       "      <th>Department</th>\n",
       "      <th>Salary</th>\n",
       "      <th>YearsAtCompany</th>\n",
       "    </tr>\n",
       "  </thead>\n",
       "  <tbody>\n",
       "    <tr>\n",
       "      <th>2</th>\n",
       "      <td>103</td>\n",
       "      <td>Sam Johnson</td>\n",
       "      <td>45</td>\n",
       "      <td>HR</td>\n",
       "      <td>75000</td>\n",
       "      <td>10</td>\n",
       "    </tr>\n",
       "    <tr>\n",
       "      <th>4</th>\n",
       "      <td>105</td>\n",
       "      <td>Peter Brown</td>\n",
       "      <td>50</td>\n",
       "      <td>IT</td>\n",
       "      <td>95000</td>\n",
       "      <td>15</td>\n",
       "    </tr>\n",
       "    <tr>\n",
       "      <th>7</th>\n",
       "      <td>108</td>\n",
       "      <td>Karen Black</td>\n",
       "      <td>41</td>\n",
       "      <td>HR</td>\n",
       "      <td>78000</td>\n",
       "      <td>11</td>\n",
       "    </tr>\n",
       "  </tbody>\n",
       "</table>\n",
       "</div>"
      ],
      "text/plain": [
       "   EmployeeID         Name  Age Department  Salary  YearsAtCompany\n",
       "2         103  Sam Johnson   45         HR   75000              10\n",
       "4         105  Peter Brown   50         IT   95000              15\n",
       "7         108  Karen Black   41         HR   78000              11"
      ]
     },
     "execution_count": 128,
     "metadata": {},
     "output_type": "execute_result"
    }
   ],
   "source": [
    "employee_older_40 = employee[employee[\"Age\"] > 40]\n",
    "employee_older_40"
   ]
  },
  {
   "cell_type": "code",
   "execution_count": 129,
   "id": "2104db5d",
   "metadata": {},
   "outputs": [
    {
     "data": {
      "text/html": [
       "<div>\n",
       "<style scoped>\n",
       "    .dataframe tbody tr th:only-of-type {\n",
       "        vertical-align: middle;\n",
       "    }\n",
       "\n",
       "    .dataframe tbody tr th {\n",
       "        vertical-align: top;\n",
       "    }\n",
       "\n",
       "    .dataframe thead th {\n",
       "        text-align: right;\n",
       "    }\n",
       "</style>\n",
       "<table border=\"1\" class=\"dataframe\">\n",
       "  <thead>\n",
       "    <tr style=\"text-align: right;\">\n",
       "      <th></th>\n",
       "      <th>EmployeeID</th>\n",
       "      <th>Name</th>\n",
       "      <th>Age</th>\n",
       "      <th>Department</th>\n",
       "      <th>Salary</th>\n",
       "      <th>YearsAtCompany</th>\n",
       "    </tr>\n",
       "  </thead>\n",
       "  <tbody>\n",
       "    <tr>\n",
       "      <th>4</th>\n",
       "      <td>105</td>\n",
       "      <td>Peter Brown</td>\n",
       "      <td>50</td>\n",
       "      <td>IT</td>\n",
       "      <td>95000</td>\n",
       "      <td>15</td>\n",
       "    </tr>\n",
       "    <tr>\n",
       "      <th>9</th>\n",
       "      <td>110</td>\n",
       "      <td>Alice Purple</td>\n",
       "      <td>27</td>\n",
       "      <td>IT</td>\n",
       "      <td>70000</td>\n",
       "      <td>2</td>\n",
       "    </tr>\n",
       "  </tbody>\n",
       "</table>\n",
       "</div>"
      ],
      "text/plain": [
       "   EmployeeID          Name  Age Department  Salary  YearsAtCompany\n",
       "4         105   Peter Brown   50         IT   95000              15\n",
       "9         110  Alice Purple   27         IT   70000               2"
      ]
     },
     "execution_count": 129,
     "metadata": {},
     "output_type": "execute_result"
    }
   ],
   "source": [
    "employee_IT = employee[employee['Department'] == 'IT']\n",
    "employee_IT"
   ]
  },
  {
   "cell_type": "code",
   "execution_count": 130,
   "id": "5bcb6c25",
   "metadata": {},
   "outputs": [
    {
     "data": {
      "text/html": [
       "<div>\n",
       "<style scoped>\n",
       "    .dataframe tbody tr th:only-of-type {\n",
       "        vertical-align: middle;\n",
       "    }\n",
       "\n",
       "    .dataframe tbody tr th {\n",
       "        vertical-align: top;\n",
       "    }\n",
       "\n",
       "    .dataframe thead th {\n",
       "        text-align: right;\n",
       "    }\n",
       "</style>\n",
       "<table border=\"1\" class=\"dataframe\">\n",
       "  <thead>\n",
       "    <tr style=\"text-align: right;\">\n",
       "      <th></th>\n",
       "      <th>EmployeeID</th>\n",
       "      <th>Name</th>\n",
       "      <th>Age</th>\n",
       "      <th>Department</th>\n",
       "      <th>Salary</th>\n",
       "      <th>YearsAtCompany</th>\n",
       "    </tr>\n",
       "  </thead>\n",
       "  <tbody>\n",
       "    <tr>\n",
       "      <th>1</th>\n",
       "      <td>102</td>\n",
       "      <td>Jane Doe</td>\n",
       "      <td>34</td>\n",
       "      <td>Marketing</td>\n",
       "      <td>80000</td>\n",
       "      <td>7</td>\n",
       "    </tr>\n",
       "    <tr>\n",
       "      <th>2</th>\n",
       "      <td>103</td>\n",
       "      <td>Sam Johnson</td>\n",
       "      <td>45</td>\n",
       "      <td>HR</td>\n",
       "      <td>75000</td>\n",
       "      <td>10</td>\n",
       "    </tr>\n",
       "    <tr>\n",
       "      <th>3</th>\n",
       "      <td>104</td>\n",
       "      <td>Susan Lee</td>\n",
       "      <td>39</td>\n",
       "      <td>Finance</td>\n",
       "      <td>90000</td>\n",
       "      <td>5</td>\n",
       "    </tr>\n",
       "    <tr>\n",
       "      <th>4</th>\n",
       "      <td>105</td>\n",
       "      <td>Peter Brown</td>\n",
       "      <td>50</td>\n",
       "      <td>IT</td>\n",
       "      <td>95000</td>\n",
       "      <td>15</td>\n",
       "    </tr>\n",
       "    <tr>\n",
       "      <th>6</th>\n",
       "      <td>107</td>\n",
       "      <td>David White</td>\n",
       "      <td>32</td>\n",
       "      <td>Marketing</td>\n",
       "      <td>72000</td>\n",
       "      <td>6</td>\n",
       "    </tr>\n",
       "    <tr>\n",
       "      <th>7</th>\n",
       "      <td>108</td>\n",
       "      <td>Karen Black</td>\n",
       "      <td>41</td>\n",
       "      <td>HR</td>\n",
       "      <td>78000</td>\n",
       "      <td>11</td>\n",
       "    </tr>\n",
       "    <tr>\n",
       "      <th>8</th>\n",
       "      <td>109</td>\n",
       "      <td>James Blue</td>\n",
       "      <td>38</td>\n",
       "      <td>Finance</td>\n",
       "      <td>85000</td>\n",
       "      <td>8</td>\n",
       "    </tr>\n",
       "  </tbody>\n",
       "</table>\n",
       "</div>"
      ],
      "text/plain": [
       "   EmployeeID         Name  Age Department  Salary  YearsAtCompany\n",
       "1         102     Jane Doe   34  Marketing   80000               7\n",
       "2         103  Sam Johnson   45         HR   75000              10\n",
       "3         104    Susan Lee   39    Finance   90000               5\n",
       "4         105  Peter Brown   50         IT   95000              15\n",
       "6         107  David White   32  Marketing   72000               6\n",
       "7         108  Karen Black   41         HR   78000              11\n",
       "8         109   James Blue   38    Finance   85000               8"
      ]
     },
     "execution_count": 130,
     "metadata": {},
     "output_type": "execute_result"
    }
   ],
   "source": [
    "employee_salary_above_70000 = employee[employee['Salary'] > 70000]\n",
    "employee_salary_above_70000"
   ]
  },
  {
   "cell_type": "code",
   "execution_count": 131,
   "id": "0ac64938",
   "metadata": {},
   "outputs": [
    {
     "data": {
      "text/html": [
       "<div>\n",
       "<style scoped>\n",
       "    .dataframe tbody tr th:only-of-type {\n",
       "        vertical-align: middle;\n",
       "    }\n",
       "\n",
       "    .dataframe tbody tr th {\n",
       "        vertical-align: top;\n",
       "    }\n",
       "\n",
       "    .dataframe thead th {\n",
       "        text-align: right;\n",
       "    }\n",
       "</style>\n",
       "<table border=\"1\" class=\"dataframe\">\n",
       "  <thead>\n",
       "    <tr style=\"text-align: right;\">\n",
       "      <th></th>\n",
       "      <th>Name</th>\n",
       "      <th>Salary</th>\n",
       "    </tr>\n",
       "  </thead>\n",
       "  <tbody>\n",
       "    <tr>\n",
       "      <th>0</th>\n",
       "      <td>John Smith</td>\n",
       "      <td>60000</td>\n",
       "    </tr>\n",
       "    <tr>\n",
       "      <th>1</th>\n",
       "      <td>Jane Doe</td>\n",
       "      <td>80000</td>\n",
       "    </tr>\n",
       "    <tr>\n",
       "      <th>2</th>\n",
       "      <td>Sam Johnson</td>\n",
       "      <td>75000</td>\n",
       "    </tr>\n",
       "    <tr>\n",
       "      <th>3</th>\n",
       "      <td>Susan Lee</td>\n",
       "      <td>90000</td>\n",
       "    </tr>\n",
       "    <tr>\n",
       "      <th>4</th>\n",
       "      <td>Peter Brown</td>\n",
       "      <td>95000</td>\n",
       "    </tr>\n",
       "    <tr>\n",
       "      <th>5</th>\n",
       "      <td>Linda Green</td>\n",
       "      <td>62000</td>\n",
       "    </tr>\n",
       "    <tr>\n",
       "      <th>6</th>\n",
       "      <td>David White</td>\n",
       "      <td>72000</td>\n",
       "    </tr>\n",
       "    <tr>\n",
       "      <th>7</th>\n",
       "      <td>Karen Black</td>\n",
       "      <td>78000</td>\n",
       "    </tr>\n",
       "    <tr>\n",
       "      <th>8</th>\n",
       "      <td>James Blue</td>\n",
       "      <td>85000</td>\n",
       "    </tr>\n",
       "    <tr>\n",
       "      <th>9</th>\n",
       "      <td>Alice Purple</td>\n",
       "      <td>70000</td>\n",
       "    </tr>\n",
       "  </tbody>\n",
       "</table>\n",
       "</div>"
      ],
      "text/plain": [
       "           Name  Salary\n",
       "0    John Smith   60000\n",
       "1      Jane Doe   80000\n",
       "2   Sam Johnson   75000\n",
       "3     Susan Lee   90000\n",
       "4   Peter Brown   95000\n",
       "5   Linda Green   62000\n",
       "6   David White   72000\n",
       "7   Karen Black   78000\n",
       "8    James Blue   85000\n",
       "9  Alice Purple   70000"
      ]
     },
     "execution_count": 131,
     "metadata": {},
     "output_type": "execute_result"
    }
   ],
   "source": [
    "employee_name_salary = employee[['Name', 'Salary']]\n",
    "employee_name_salary"
   ]
  },
  {
   "cell_type": "code",
   "execution_count": 133,
   "id": "cc9d6ec2",
   "metadata": {},
   "outputs": [
    {
     "data": {
      "text/plain": [
       "Department\n",
       "Finance      87500.0\n",
       "HR           76500.0\n",
       "IT           82500.0\n",
       "Marketing    76000.0\n",
       "Sales        61000.0\n",
       "Name: Salary, dtype: float64"
      ]
     },
     "execution_count": 133,
     "metadata": {},
     "output_type": "execute_result"
    }
   ],
   "source": [
    "average_salary_department = employee.groupby('Department')['Salary'].mean()\n",
    "average_salary_department"
   ]
  },
  {
   "cell_type": "markdown",
   "id": "caaeef41",
   "metadata": {},
   "source": [
    "## 3. Aggregation and Grouping:\n",
    "- Calculate the average salary of all employees.\n",
    "- Calculate the average age of employees in each department.\n",
    "- Calculate the total years worked at the company for all employees.\n",
    "- Find the employee with the highest salary.\n",
    "- Calculate the average years at the company for each department."
   ]
  },
  {
   "cell_type": "code",
   "execution_count": 137,
   "id": "69f107b1",
   "metadata": {},
   "outputs": [
    {
     "name": "stdout",
     "output_type": "stream",
     "text": [
      "76700.0\n"
     ]
    }
   ],
   "source": [
    "average_salary = employee['Salary'].mean()\n",
    "print(average_salary)"
   ]
  },
  {
   "cell_type": "code",
   "execution_count": 138,
   "id": "bc6a9405",
   "metadata": {},
   "outputs": [
    {
     "data": {
      "text/plain": [
       "Department\n",
       "Finance      38.5\n",
       "HR           43.0\n",
       "IT           38.5\n",
       "Marketing    33.0\n",
       "Sales        28.5\n",
       "Name: Age, dtype: float64"
      ]
     },
     "execution_count": 138,
     "metadata": {},
     "output_type": "execute_result"
    }
   ],
   "source": [
    "average_age_department = employee.groupby('Department')['Age'].mean()\n",
    "average_age_department"
   ]
  },
  {
   "cell_type": "code",
   "execution_count": 142,
   "id": "32afd162",
   "metadata": {},
   "outputs": [
    {
     "name": "stdout",
     "output_type": "stream",
     "text": [
      "71\n"
     ]
    }
   ],
   "source": [
    "total_years = employee['YearsAtCompany'].sum()\n",
    "print(total_years)"
   ]
  },
  {
   "cell_type": "code",
   "execution_count": 144,
   "id": "7916e36b",
   "metadata": {},
   "outputs": [
    {
     "data": {
      "text/html": [
       "<div>\n",
       "<style scoped>\n",
       "    .dataframe tbody tr th:only-of-type {\n",
       "        vertical-align: middle;\n",
       "    }\n",
       "\n",
       "    .dataframe tbody tr th {\n",
       "        vertical-align: top;\n",
       "    }\n",
       "\n",
       "    .dataframe thead th {\n",
       "        text-align: right;\n",
       "    }\n",
       "</style>\n",
       "<table border=\"1\" class=\"dataframe\">\n",
       "  <thead>\n",
       "    <tr style=\"text-align: right;\">\n",
       "      <th></th>\n",
       "      <th>EmployeeID</th>\n",
       "      <th>Name</th>\n",
       "      <th>Age</th>\n",
       "      <th>Department</th>\n",
       "      <th>Salary</th>\n",
       "      <th>YearsAtCompany</th>\n",
       "    </tr>\n",
       "  </thead>\n",
       "  <tbody>\n",
       "    <tr>\n",
       "      <th>4</th>\n",
       "      <td>105</td>\n",
       "      <td>Peter Brown</td>\n",
       "      <td>50</td>\n",
       "      <td>IT</td>\n",
       "      <td>95000</td>\n",
       "      <td>15</td>\n",
       "    </tr>\n",
       "  </tbody>\n",
       "</table>\n",
       "</div>"
      ],
      "text/plain": [
       "   EmployeeID         Name  Age Department  Salary  YearsAtCompany\n",
       "4         105  Peter Brown   50         IT   95000              15"
      ]
     },
     "execution_count": 144,
     "metadata": {},
     "output_type": "execute_result"
    }
   ],
   "source": [
    "highest_salary = employee.sort_values(by='Salary', ascending=False).iloc[:1]\n",
    "highest_salary"
   ]
  },
  {
   "cell_type": "code",
   "execution_count": 145,
   "id": "b1d58c56",
   "metadata": {},
   "outputs": [
    {
     "data": {
      "text/plain": [
       "Department\n",
       "Finance       6.5\n",
       "HR           10.5\n",
       "IT            8.5\n",
       "Marketing     6.5\n",
       "Sales         3.5\n",
       "Name: YearsAtCompany, dtype: float64"
      ]
     },
     "execution_count": 145,
     "metadata": {},
     "output_type": "execute_result"
    }
   ],
   "source": [
    "average_years_department = employee.groupby('Department')['YearsAtCompany'].mean()\n",
    "average_years_department"
   ]
  },
  {
   "cell_type": "markdown",
   "id": "a80177f2",
   "metadata": {},
   "source": [
    "## 4. Data Visualization:\n",
    "- Create a bar plot showing the average salary for each department.\n",
    "- Create a bar plot showing the total years at the company for each employee.\n",
    "- Create a histogram showing the distribution of employee ages.\n",
    "- Create a box plot to show the distribution of salaries for each department.\n",
    "- Create a scatter plot showing the relationship between age and salary"
   ]
  },
  {
   "cell_type": "markdown",
   "id": "18557667",
   "metadata": {},
   "source": []
  },
  {
   "cell_type": "code",
   "execution_count": null,
   "id": "a2222f7f",
   "metadata": {},
   "outputs": [
    {
     "data": {
      "image/png": "[encoded data removed]",
      "text/plain": [
       "<Figure size 640x480 with 1 Axes>"
      ]
     },
     "metadata": {},
     "output_type": "display_data"
    }
   ],
   "source": [
    "# - Create a bar plot showing the average salary for each department.\n",
    "average_salary_department.plot(kind='bar')\n",
    "plt.title('Average Salary by Department')\n",
    "plt.xlabel('Department')\n",
    "plt.ylabel('Average Salary')\n",
    "plt.xticks(rotation=45)\n",
    "plt.show()"
   ]
  },
  {
   "cell_type": "code",
   "execution_count": 152,
   "id": "cad97ebc",
   "metadata": {},
   "outputs": [
    {
     "data": {
      "image/png": "[encoded data removed]",
      "text/plain": [
       "<Figure size 640x480 with 1 Axes>"
      ]
     },
     "metadata": {},
     "output_type": "display_data"
    }
   ],
   "source": [
    "# - Create a bar plot showing the total years at the company for each employee.\n",
    "employee_name_years = employee[['Name', 'YearsAtCompany']].set_index('Name')\n",
    "employee_name_years.plot(kind='bar')\n",
    "plt.title('Total Years at Company by Employee')\n",
    "plt.xlabel('Employee Name')\n",
    "plt.ylabel('Years at Company')\n",
    "plt.xticks(rotation=45)\n",
    "plt.show()\n",
    "\n"
   ]
  },
  {
   "cell_type": "code",
   "execution_count": 153,
   "id": "aa8577c8",
   "metadata": {},
   "outputs": [
    {
     "data": {
      "image/png": "[encoded data removed]",
      "text/plain": [
       "<Figure size 1000x600 with 1 Axes>"
      ]
     },
     "metadata": {},
     "output_type": "display_data"
    }
   ],
   "source": [
    "# - Create a histogram showing the distribution of employee ages.\n",
    "plt.figure(figsize=(10, 6))\n",
    "plt.hist(employee['Age'], bins=10, edgecolor='black')\n",
    "plt.title('Distribution of Employee Ages')\n",
    "plt.xlabel('Age')\n",
    "plt.ylabel('Frequency')\n",
    "plt.show()\n"
   ]
  },
  {
   "cell_type": "code",
   "execution_count": 164,
   "id": "eb308b86",
   "metadata": {},
   "outputs": [
    {
     "data": {
      "image/png": "[encoded data removed]",
      "text/plain": [
       "<Figure size 640x480 with 1 Axes>"
      ]
     },
     "metadata": {},
     "output_type": "display_data"
    }
   ],
   "source": [
    "# - Create a box plot to show the distribution of salaries for each department.\n",
    "employee.boxplot(column='Salary', by='Department')\n",
    "plt.title('Distribution of Salaries by Department')\n",
    "plt.suptitle('')\n",
    "plt.xlabel('Department')\n",
    "plt.ylabel('Salary')\n",
    "plt.xticks(rotation=45)\n",
    "plt.show()\n"
   ]
  },
  {
   "cell_type": "code",
   "execution_count": 166,
   "id": "e6ee3ea4",
   "metadata": {},
   "outputs": [
    {
     "data": {
      "image/png": "[encoded data removed]",
      "text/plain": [
       "<Figure size 640x480 with 1 Axes>"
      ]
     },
     "metadata": {},
     "output_type": "display_data"
    }
   ],
   "source": [
    "# - Create a scatter plot showing the relationship between age and salary\n",
    "plt.scatter(employee['Age'], employee['Salary'], s=100, edgecolors='black')\n",
    "plt.title('Relationship between Age and Salary')\n",
    "plt.xlabel('Age')\n",
    "plt.ylabel('Salary')\n",
    "plt.grid(alpha=0.3)\n",
    "plt.show()"
   ]
  },
  {
   "cell_type": "code",
   "execution_count": null,
   "id": "cd918647",
   "metadata": {},
   "outputs": [],
   "source": []
  }
 ],
 "metadata": {
  "kernelspec": {
   "display_name": "DS201",
   "language": "python",
   "name": "python3"
  },
  "language_info": {
   "codemirror_mode": {
    "name": "ipython",
    "version": 3
   },
   "file_extension": ".py",
   "mimetype": "text/x-python",
   "name": "python",
   "nbconvert_exporter": "python",
   "pygments_lexer": "ipython3",
   "version": "3.13.7"
  }
 },
 "nbformat": 4,
 "nbformat_minor": 5
}
