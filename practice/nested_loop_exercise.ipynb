{
 "cells": [
  {
   "cell_type": "markdown",
   "id": "e52793b6",
   "metadata": {},
   "source": [
    "1. Word Count per Review\n",
    "reviews = [\n",
    "\"Great service and friendly staff\",\n",
    "\"Friendly staff and clean place\",\n",
    "\"Great food and great service\"\n",
    "]\n",
    "Task: Print the number of words in each review using nested loops."
   ]
  },
  {
   "cell_type": "code",
   "execution_count": 109,
   "id": "3e37b4d4",
   "metadata": {},
   "outputs": [
    {
     "name": "stdout",
     "output_type": "stream",
     "text": [
      "Review: 'Great service and friendly staff' has 5 unique words.\n",
      "Review: 'Friendly staff and clean place' has 5 unique words.\n",
      "Review: 'Great food and great service' has 4 unique words.\n"
     ]
    }
   ],
   "source": [
    "reviews = [\n",
    "    \"Great service and friendly staff\",\n",
    "    \"Friendly staff and clean place\",\n",
    "    \"Great food and great service\"\n",
    "]\n",
    "\n",
    "for review in reviews:\n",
    "    words = review.lower().split()\n",
    "    unique_words = set(words)\n",
    "    print(f\"Review: '{review}' has {len(unique_words)} unique words.\")"
   ]
  },
  {
   "cell_type": "markdown",
   "id": "562f2f25",
   "metadata": {},
   "source": [
    "2. Character Frequency per Word\n",
    "words = [\"python\", \"analysis\", \"data\"]\n",
    "Task: Print how many times each character appears in each word."
   ]
  },
  {
   "cell_type": "code",
   "execution_count": 110,
   "id": "54bcb19a",
   "metadata": {},
   "outputs": [
    {
     "name": "stdout",
     "output_type": "stream",
     "text": [
      "defaultdict(<class 'list'>, {'p': 1, 'y': 1, 't': 1, 'h': 1, 'o': 1, 'n': 1})\n",
      "defaultdict(<class 'list'>, {'a': 2, 'n': 1, 'l': 1, 'y': 1, 's': 2, 'i': 1})\n",
      "defaultdict(<class 'list'>, {'d': 1, 'a': 2, 't': 1})\n"
     ]
    }
   ],
   "source": [
    "from collections import defaultdict\n",
    "\n",
    "words = [\"python\", \"analysis\", \"data\"]\n",
    "\n",
    "for word in words:\n",
    "    counts = defaultdict(list)\n",
    "    for char in word:\n",
    "        if counts[char] == 1:\n",
    "            counts[char] += 1\n",
    "        else:\n",
    "            counts[char] = 1\n",
    "    print(counts)"
   ]
  },
  {
   "cell_type": "markdown",
   "id": "1c2fe092",
   "metadata": {},
   "source": [
    "3. Count Vowels in a List of Names\n",
    "names = [\"Alice\", \"Bob\", \"Charlie\", \"Diana\"]"
   ]
  },
  {
   "cell_type": "code",
   "execution_count": 111,
   "id": "c585c068",
   "metadata": {},
   "outputs": [
    {
     "name": "stdout",
     "output_type": "stream",
     "text": [
      "defaultdict(<class 'list'>, {'Alice': 3, 'Bob': 1, 'Charlie': 3, 'Diana': 3})\n"
     ]
    }
   ],
   "source": [
    "vowels = ['a', 'i', 'u', 'e', 'o']\n",
    "names = [\"Alice\", \"Bob\", \"Charlie\", \"Diana\"]\n",
    "\n",
    "counts = defaultdict(list)\n",
    "\n",
    "for name in names:\n",
    "    counts[name] = 0\n",
    "    for char in name:\n",
    "        if char.lower() in vowels:\n",
    "            counts[name] += 1\n",
    "print(counts)"
   ]
  },
  {
   "cell_type": "markdown",
   "id": "d027636e",
   "metadata": {},
   "source": [
    "4. Word Match Across Sentences\n",
    "sentences = [\n",
    "[\"data\", \"science\", \"is\", \"fun\"],\n",
    "[\"machine\", \"learning\", \"is\", \"fun\"],\n",
    "[\"deep\", \"learning\", \"is\", \"cool\"]\n",
    "]\n",
    "Task: Print words that appear in more than one sentence."
   ]
  },
  {
   "cell_type": "code",
   "execution_count": 112,
   "id": "7175398b",
   "metadata": {},
   "outputs": [
    {
     "name": "stdout",
     "output_type": "stream",
     "text": [
      "{'data': 1, 'science': 1, 'is': 3, 'fun': 2, 'machine': 1, 'learning': 2, 'deep': 1, 'cool': 1}\n"
     ]
    }
   ],
   "source": [
    "from collections import defaultdict\n",
    "\n",
    "sentences = [\n",
    "    [\"data\", \"science\", \"is\", \"fun\"],\n",
    "    [\"machine\", \"learning\", \"is\", \"fun\"],\n",
    "    [\"deep\", \"learning\", \"is\", \"cool\"]\n",
    "]\n",
    "\n",
    "counts = defaultdict(int)\n",
    "\n",
    "for sentence in sentences:\n",
    "    for word in sentence:\n",
    "        counts[word] += 1\n",
    "\n",
    "print(dict(counts))"
   ]
  },
  {
   "cell_type": "markdown",
   "id": "8d3e5589",
   "metadata": {},
   "source": [
    "5. Capital Letters Checker\n",
    "words = [\"Data\", \"Science\", \"PYTHON\"]\n",
    "Task: Print which characters in each word are uppercase."
   ]
  },
  {
   "cell_type": "code",
   "execution_count": 113,
   "id": "7786aa1f",
   "metadata": {},
   "outputs": [
    {
     "name": "stdout",
     "output_type": "stream",
     "text": [
      "{'Data': ['D'], 'Science': ['S'], 'PYTHON': ['P', 'Y', 'T', 'H', 'O', 'N']}\n"
     ]
    }
   ],
   "source": [
    "from collections import defaultdict\n",
    "\n",
    "words = [\"Data\", \"Science\", \"PYTHON\"]\n",
    "counts = defaultdict(list)\n",
    "\n",
    "for word in words:\n",
    "    for char in word:\n",
    "        if char == char.upper():\n",
    "            counts[word].append(char)\n",
    "print(dict(counts))\n",
    "\n"
   ]
  },
  {
   "cell_type": "markdown",
   "id": "42defad0",
   "metadata": {},
   "source": [
    "6. First Letter Match Matrix\n",
    "names = [\"Alice\", \"Alan\", \"Bob\", \"Barbara\", \"Charlie\"]\n",
    "Task: For each pair of names, print if they start with the same letter."
   ]
  },
  {
   "cell_type": "code",
   "execution_count": 114,
   "id": "0a7b71c6",
   "metadata": {},
   "outputs": [
    {
     "name": "stdout",
     "output_type": "stream",
     "text": [
      "{'A': ['Alice', 'Alan'], 'B': ['Bob', 'Barbara'], 'C': ['Charlie']}\n"
     ]
    }
   ],
   "source": [
    "from collections import defaultdict\n",
    "\n",
    "names = [\"Alice\", \"Alan\", \"Bob\", \"Barbara\", \"Charlie\"]\n",
    "init_names = defaultdict(list)\n",
    "\n",
    "for name in names:\n",
    "    init_names[name[0]].append(name)\n",
    "\n",
    "print(dict(init_names))\n",
    "    "
   ]
  },
  {
   "cell_type": "markdown",
   "id": "a49432fd",
   "metadata": {},
   "source": [
    "7. String Rotation Matches\n",
    "words = [\"loop\", \"pool\", \"cool\", \"loop\"]\n",
    "Task: Print pairs of words that are rotations of each other (e.g., \"loop\" and \"pool\")."
   ]
  },
  {
   "cell_type": "code",
   "execution_count": 115,
   "id": "6d8b23b4",
   "metadata": {},
   "outputs": [
    {
     "name": "stdout",
     "output_type": "stream",
     "text": [
      "{'loop': ['pool', 'pool'], 'pool': ['loop', 'loop']}\n"
     ]
    }
   ],
   "source": [
    "from collections import defaultdict\n",
    "\n",
    "words = [\"loop\", \"pool\", \"cool\", \"loop\"]\n",
    "rotations = defaultdict(list)\n",
    "\n",
    "for i in range(len(words)):\n",
    "    for word in words:\n",
    "        if words[i] == word:\n",
    "            pass\n",
    "        elif words[i] == word[::-1]:\n",
    "            rotations[words[i]].append(word)\n",
    "print(dict(rotations))"
   ]
  },
  {
   "cell_type": "markdown",
   "id": "217ae146",
   "metadata": {},
   "source": [
    "8. Word Length Checker\n",
    "word_lists = [[\"apple\", \"banana\"], [\"grape\", \"pear\", \"kiwi\"], [\"mango\"]]\n",
    "Task: Print which words have more than 5 characters."
   ]
  },
  {
   "cell_type": "code",
   "execution_count": 116,
   "id": "7c50934c",
   "metadata": {},
   "outputs": [
    {
     "name": "stdout",
     "output_type": "stream",
     "text": [
      "['apple', 'banana', 'grape', 'mango']\n"
     ]
    }
   ],
   "source": [
    "word_lists = [[\"apple\", \"banana\"], [\"grape\", \"pear\", \"kiwi\"], [\"mango\"]]\n",
    "\n",
    "word_list_than_5char = []\n",
    "\n",
    "for word_list in word_lists:\n",
    "    for word in word_list:\n",
    "        if len(word) >= 5:\n",
    "            word_list_than_5char.append(word)\n",
    "print(word_list_than_5char)"
   ]
  },
  {
   "cell_type": "markdown",
   "id": "7e38004a",
   "metadata": {},
   "source": [
    "9. Palindrome Checker\n",
    "words = [\"level\", \"data\", \"civic\", \"python\", \"madam\"]\n",
    "Task: Print all the words that are palindromes."
   ]
  },
  {
   "cell_type": "code",
   "execution_count": 117,
   "id": "cfa9ff2f",
   "metadata": {},
   "outputs": [
    {
     "name": "stdout",
     "output_type": "stream",
     "text": [
      "['level', 'civic', 'madam']\n"
     ]
    }
   ],
   "source": [
    "words = [\"level\", \"data\", \"civic\", \"python\", \"madam\"]\n",
    "\n",
    "palindromes = []\n",
    "\n",
    "for word in words:\n",
    "    if word == word[::-1]:\n",
    "        palindromes.append(word)\n",
    "\n",
    "print(palindromes)"
   ]
  },
  {
   "cell_type": "markdown",
   "id": "c23a2932",
   "metadata": {},
   "source": [
    "10. Matching Characters Position\n",
    "word_pairs = [(\"data\", \"date\"), (\"python\", \"pythagoras\")]\n",
    "\n",
    "Nested Loop Exercises 2\n",
    "\n",
    "Task: Print how many characters match in the same position."
   ]
  },
  {
   "cell_type": "code",
   "execution_count": 118,
   "id": "81134d70",
   "metadata": {},
   "outputs": [
    {
     "name": "stdout",
     "output_type": "stream",
     "text": [
      "The words 'data' and 'date' have 3 characters that match in the same position.\n",
      "The words 'python' and 'pythagoras' have 4 characters that match in the same position.\n"
     ]
    }
   ],
   "source": [
    "word_pairs = [(\"data\", \"date\"), (\"python\", \"pythagoras\")]\n",
    "\n",
    "for word1, word2 in word_pairs:\n",
    "    min_length = min(len(word1), len(word2))\n",
    "    match_count = 0\n",
    "\n",
    "    for i in range(min_length):\n",
    "        if word1[i] == word2[i]:\n",
    "            match_count += 1\n",
    "\n",
    "    print(f\"The words '{word1}' and '{word2}' have {match_count} characters that match in the same position.\")"
   ]
  },
  {
   "cell_type": "markdown",
   "id": "665cf2fd",
   "metadata": {},
   "source": [
    "11. Student Subject Averages\n",
    "student_scores = {\n",
    "\"Alice\": {\"Math\": [90, 57], \"Science\": [74, 60]},\n",
    "\"Bob\": {\"Math\": [96, 91], \"Science\": [86, 95]}\n",
    "}\n",
    "Task: Print each student's average per subject."
   ]
  },
  {
   "cell_type": "code",
   "execution_count": 119,
   "id": "544683b2",
   "metadata": {},
   "outputs": [
    {
     "name": "stdout",
     "output_type": "stream",
     "text": [
      "Alice - Math: 73.5\n",
      "Alice - Science: 67.0\n",
      "Bob - Math: 93.5\n",
      "Bob - Science: 90.5\n"
     ]
    }
   ],
   "source": [
    "student_scores = {\n",
    "\"Alice\": {\"Math\": [90, 57], \"Science\": [74, 60]},\n",
    "\"Bob\": {\"Math\": [96, 91], \"Science\": [86, 95]}\n",
    "}\n",
    "\n",
    "for name, subjects in student_scores.items():\n",
    "    for subject, scores in subjects.items():\n",
    "        average_score = sum(scores) / len(scores)\n",
    "        subjects[subject] = average_score\n",
    "        print(f'{name} - {subject}: {average_score}')\n",
    "    "
   ]
  },
  {
   "cell_type": "markdown",
   "id": "776249b4",
   "metadata": {},
   "source": [
    "12. Best Student per Subject\n",
    "Task: Print which student had the highest total score in each subject."
   ]
  },
  {
   "cell_type": "code",
   "execution_count": 120,
   "id": "0cb8b1aa",
   "metadata": {},
   "outputs": [
    {
     "name": "stdout",
     "output_type": "stream",
     "text": [
      "Best student in Math: Bob with total score 187\n",
      "Best student in Science: Bob with total score 181\n"
     ]
    }
   ],
   "source": [
    "student_scores = {\n",
    "\"Alice\": {\"Math\": [90, 57], \"Science\": [74, 60]},\n",
    "\"Bob\": {\"Math\": [96, 91], \"Science\": [86, 95]}\n",
    "}\n",
    "\n",
    "subject_totals = {}\n",
    "\n",
    "for student, subjects in student_scores.items():\n",
    "    for subject, scores in subjects.items():\n",
    "        if subject not in subject_totals:\n",
    "            subject_totals[subject] = {}\n",
    "        subject_totals[subject][student] = sum(scores)\n",
    "\n",
    "for subject, scores_dict in subject_totals.items():\n",
    "    best_student = max(scores_dict, key=scores_dict.get)\n",
    "    print(f\"Best student in {subject}: {best_student} with total score {scores_dict[best_student]}\")"
   ]
  },
  {
   "cell_type": "markdown",
   "id": "cfceaef8",
   "metadata": {},
   "source": [
    "13. Temperature Averages\n",
    "temps = {\n",
    "\"Vancouver\": [5, 28, 19],\n",
    "\"Toronto\": [13, 7, 27],\n",
    "\"Calgary\": [24, 27, 5]\n",
    "}\n",
    "Task: Print average temperature for each city."
   ]
  },
  {
   "cell_type": "code",
   "execution_count": 121,
   "id": "de5c3ade",
   "metadata": {},
   "outputs": [
    {
     "name": "stdout",
     "output_type": "stream",
     "text": [
      "The average temperature in Vancouver is 17.33°C\n",
      "The average temperature in Toronto is 15.67°C\n",
      "The average temperature in Calgary is 18.67°C\n"
     ]
    }
   ],
   "source": [
    "temps = {\n",
    "\"Vancouver\": [5, 28, 19],\n",
    "\"Toronto\": [13, 7, 27],\n",
    "\"Calgary\": [24, 27, 5]\n",
    "}\n",
    "\n",
    "for city, temp in temps.items():\n",
    "    avg_temp = sum(temp) / len(temp)\n",
    "    print(f\"The average temperature in {city} is {avg_temp:.2f}°C\")"
   ]
  },
  {
   "cell_type": "markdown",
   "id": "4430f157",
   "metadata": {},
   "source": [
    "14. Temperatures Over 25°C\n",
    "Task: Print which days had over 25°C per city."
   ]
  },
  {
   "cell_type": "code",
   "execution_count": 122,
   "id": "305164f2",
   "metadata": {},
   "outputs": [
    {
     "name": "stdout",
     "output_type": "stream",
     "text": [
      "The number of days with temperature above 25°C in Vancouver is 1\n",
      "The number of days with temperature above 25°C in Toronto is 1\n",
      "The number of days with temperature above 25°C in Calgary is 1\n"
     ]
    }
   ],
   "source": [
    "temps = {\n",
    "\"Vancouver\": [5, 28, 19],\n",
    "\"Toronto\": [13, 7, 27],\n",
    "\"Calgary\": [24, 27, 5]\n",
    "}\n",
    "\n",
    "for city, temp_list in temps.items():\n",
    "    count = 0\n",
    "    for temp in temp_list:\n",
    "        if temp > 25:\n",
    "            count += 1\n",
    "    print(f\"The number of days with temperature above 25°C in {city} is {count}\")"
   ]
  },
  {
   "cell_type": "markdown",
   "id": "11166adc",
   "metadata": {},
   "source": [
    "15. Replace Zeroes in a Matrix\n",
    "matrix = [\n",
    "[0, 3, 5],\n",
    "[6, 0, 2],\n",
    "[7, 1, 0]\n",
    "]\n",
    "Task: Replace each 0 with the average of non-zero values in the row."
   ]
  },
  {
   "cell_type": "code",
   "execution_count": 123,
   "id": "28c0bf40",
   "metadata": {},
   "outputs": [
    {
     "name": "stdout",
     "output_type": "stream",
     "text": [
      "[4, 3, 5]\n",
      "[6, 4, 2]\n",
      "[7, 1, 4]\n"
     ]
    }
   ],
   "source": [
    "matrix = [\n",
    "    [0, 3, 5],\n",
    "    [6, 0, 2],\n",
    "    [7, 1, 0]\n",
    "]\n",
    "\n",
    "new_matrix = []\n",
    "\n",
    "for row in matrix:\n",
    "    non_zeros = []\n",
    "    for x in row:\n",
    "        if x != 0:\n",
    "            non_zeros.append(x)\n",
    "\n",
    "    if non_zeros:\n",
    "        avg = round(sum(non_zeros) / len(non_zeros))\n",
    "    else:\n",
    "        avg = 0\n",
    "\n",
    "    new_row = [avg if x == 0 else x for x in row]\n",
    "    new_matrix.append(new_row)\n",
    "\n",
    "for row in new_matrix:\n",
    "    print(row)"
   ]
  },
  {
   "cell_type": "markdown",
   "id": "fc508326",
   "metadata": {},
   "source": [
    "16. Column Totals\n",
    "sales = [\n",
    "[5, 3, 2],\n",
    "[6, 4, 3],\n",
    "[4, 5, 6]\n",
    "]\n",
    "Task: Print the total sales per column (product-wise)."
   ]
  },
  {
   "cell_type": "code",
   "execution_count": 124,
   "id": "53f348a6",
   "metadata": {},
   "outputs": [
    {
     "name": "stdout",
     "output_type": "stream",
     "text": [
      "[15, 12, 11]\n"
     ]
    }
   ],
   "source": [
    "sales = [\n",
    "    [5, 3, 2],\n",
    "    [6, 4, 3],\n",
    "    [4, 5, 6]\n",
    "]\n",
    "\n",
    "total_sales_per_product = []\n",
    "for product_idx in range(len(sales[0])):\n",
    "    total = 0\n",
    "    for day_idx in range(len(sales)):\n",
    "        total += sales[day_idx][product_idx]\n",
    "    total_sales_per_product.append(total)\n",
    "print(total_sales_per_product)"
   ]
  },
  {
   "cell_type": "markdown",
   "id": "db69bcfe",
   "metadata": {},
   "source": [
    "17. Table Transpose\n",
    "data = [\n",
    "[\"Name\", \"Age\"],\n",
    "[\"Alice\", 25],\n",
    "[\"Bob\", 22]\n",
    "]\n",
    "Task: Transpose the table (swap rows and columns)."
   ]
  },
  {
   "cell_type": "code",
   "execution_count": 125,
   "id": "3a613835",
   "metadata": {},
   "outputs": [
    {
     "name": "stdout",
     "output_type": "stream",
     "text": [
      "['Name', 'Alice', 'Bob']\n",
      "['Age', 25, 22]\n"
     ]
    }
   ],
   "source": [
    "data = [\n",
    "    [\"Name\", \"Age\"],\n",
    "    [\"Alice\", 25],\n",
    "    [\"Bob\", 22]\n",
    "]\n",
    "\n",
    "transposed_data = []\n",
    "for col_idx in range(len(data[0])):\n",
    "    new_row = []\n",
    "    for row_idx in range(len(data)):\n",
    "        new_row.append(data[row_idx][col_idx])\n",
    "    transposed_data.append(new_row)\n",
    "\n",
    "for row in transposed_data:\n",
    "    print(row)"
   ]
  },
  {
   "cell_type": "markdown",
   "id": "319b2585",
   "metadata": {},
   "source": [
    "18. Grade Conversion\n",
    "scores = [\n",
    "[95, 82, 76],\n",
    "[60, 45, 89]\n",
    "]\n",
    "Task: Convert all scores to grades (A/B/C/D/F) using nested loops."
   ]
  },
  {
   "cell_type": "code",
   "execution_count": 126,
   "id": "a87b024b",
   "metadata": {},
   "outputs": [
    {
     "name": "stdout",
     "output_type": "stream",
     "text": [
      "{'A': 1, 'B': 2, 'C': 1, 'D': 1, 'F': 1}\n"
     ]
    }
   ],
   "source": [
    "scores = [\n",
    "    [95, 82, 76],\n",
    "    [60, 45, 89]\n",
    "]\n",
    "\n",
    "grade_counts = {\"A\": 0, \"B\": 0, \"C\": 0, \"D\": 0, \"F\": 0}\n",
    "for student_scores in scores:\n",
    "    for score in student_scores:\n",
    "        if score >= 90:\n",
    "            grade_counts[\"A\"] += 1\n",
    "        elif score >= 80:\n",
    "            grade_counts[\"B\"] += 1\n",
    "        elif score >= 70:\n",
    "            grade_counts[\"C\"] += 1\n",
    "        elif score >= 60:\n",
    "            grade_counts[\"D\"] += 1\n",
    "        else:\n",
    "            grade_counts[\"F\"] += 1\n",
    "print(grade_counts)"
   ]
  },
  {
   "cell_type": "markdown",
   "id": "89e12139",
   "metadata": {},
   "source": [
    "19. Compare Matrices\n",
    "\n",
    "Nested Loop Exercises 4\n",
    "\n",
    "a = [[1, 2], [3, 4]]\n",
    "b = [[1, 3], [3, 5]]\n",
    "Task: Print if the corresponding elements are equal or not."
   ]
  },
  {
   "cell_type": "code",
   "execution_count": 127,
   "id": "0b4e4e63",
   "metadata": {},
   "outputs": [
    {
     "name": "stdout",
     "output_type": "stream",
     "text": [
      "[[True, False], [True, False]]\n"
     ]
    }
   ],
   "source": [
    "a = [[1, 2], [3, 4]]\n",
    "b = [[1, 3], [3, 5]]\n",
    "\n",
    "# corresponding element are equal or not\n",
    "are_equal = []\n",
    "for i in range(len(a)):\n",
    "    row = []\n",
    "    for j in range(len(a[0])):\n",
    "        row.append(a[i][j] == b[i][j])\n",
    "    are_equal.append(row)\n",
    "print(are_equal)"
   ]
  },
  {
   "cell_type": "markdown",
   "id": "9b4f3c63",
   "metadata": {},
   "source": [
    "20. Count Values Above Threshold\n",
    "data = [\n",
    "[120, 135, 142],\n",
    "[130, 145, 150],\n",
    "[140, 138, 133]\n",
    "]\n",
    "Task: Count how many values are above 140 in the dataset."
   ]
  },
  {
   "cell_type": "code",
   "execution_count": 128,
   "id": "980625c3",
   "metadata": {},
   "outputs": [
    {
     "name": "stdout",
     "output_type": "stream",
     "text": [
      "3\n"
     ]
    }
   ],
   "source": [
    "data = [\n",
    "    [120, 135, 142],\n",
    "    [130, 145, 150],\n",
    "    [140, 138, 133]\n",
    "]\n",
    "\n",
    "# how many elements above 140\n",
    "count_above_140 = 0\n",
    "for row in data:\n",
    "    for value in row:\n",
    "        if value > 140:\n",
    "            count_above_140 += 1\n",
    "print(count_above_140)"
   ]
  },
  {
   "cell_type": "code",
   "execution_count": null,
   "id": "f2bf8677",
   "metadata": {},
   "outputs": [],
   "source": []
  }
 ],
 "metadata": {
  "kernelspec": {
   "display_name": "DS201",
   "language": "python",
   "name": "python3"
  },
  "language_info": {
   "codemirror_mode": {
    "name": "ipython",
    "version": 3
   },
   "file_extension": ".py",
   "mimetype": "text/x-python",
   "name": "python",
   "nbconvert_exporter": "python",
   "pygments_lexer": "ipython3",
   "version": "3.13.7"
  }
 },
 "nbformat": 4,
 "nbformat_minor": 5
}
