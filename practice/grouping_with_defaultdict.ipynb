{
 "cells": [
  {
   "cell_type": "markdown",
   "id": "5ea93319",
   "metadata": {},
   "source": [
    "# Grouping Items by Category using defaultdict"
   ]
  },
  {
   "cell_type": "markdown",
   "id": "5cb866fa",
   "metadata": {},
   "source": [
    "\n",
    "In this notebook, we'll explore how to **group items by category** using Python's `defaultdict` from the `collections` module.  \n",
    "This is useful for automatically creating lists (or other containers) when new keys are encountered.\n"
   ]
  },
  {
   "cell_type": "markdown",
   "id": "880e9c53",
   "metadata": {},
   "source": [
    "## 🧩 Example 1 — Group students by grade"
   ]
  },
  {
   "cell_type": "code",
   "execution_count": null,
   "id": "02eb1146",
   "metadata": {},
   "outputs": [],
   "source": [
    "\n",
    "from collections import defaultdict\n",
    "\n",
    "students = [(\"A\", \"Alice\"), (\"B\", \"Bob\"), (\"A\", \"Aria\"), (\"C\", \"Chris\")]\n",
    "grouped = defaultdict(list)\n",
    "\n",
    "for grade, name in students:\n",
    "    grouped[grade].append(name)\n",
    "\n",
    "print(grouped)\n",
    "print(grouped[\"A\"])  # Expected: ['Alice', 'Aria']\n"
   ]
  },
  {
   "cell_type": "markdown",
   "id": "5a8717a3",
   "metadata": {},
   "source": [
    "## 🧩 Example 2 — Group words by first letter"
   ]
  },
  {
   "cell_type": "code",
   "execution_count": null,
   "id": "10e18a59",
   "metadata": {},
   "outputs": [],
   "source": [
    "\n",
    "from collections import defaultdict\n",
    "\n",
    "words = [\"apple\", \"ant\", \"banana\", \"book\", \"cat\"]\n",
    "grouped = defaultdict(list)\n",
    "\n",
    "for word in words:\n",
    "    grouped[word[0]].append(word)\n",
    "\n",
    "print(grouped)\n",
    "print(grouped[\"b\"])  # Expected: ['banana', 'book']\n"
   ]
  },
  {
   "cell_type": "markdown",
   "id": "9ec346c7",
   "metadata": {},
   "source": [
    "## 🧩 Example 3 — Group transactions by user"
   ]
  },
  {
   "cell_type": "code",
   "execution_count": null,
   "id": "9d3a3499",
   "metadata": {},
   "outputs": [],
   "source": [
    "\n",
    "from collections import defaultdict\n",
    "\n",
    "transactions = [(\"Alice\", 25), (\"Bob\", 15), (\"Alice\", 30), (\"Charlie\", 20)]\n",
    "grouped = defaultdict(list)\n",
    "\n",
    "for user, amount in transactions:\n",
    "    grouped[user].append(amount)\n",
    "\n",
    "print(grouped[\"Alice\"])      # Expected: [25, 30]\n",
    "print(sum(grouped[\"Alice\"])) # Expected: 55\n"
   ]
  },
  {
   "cell_type": "markdown",
   "id": "4a85dfba",
   "metadata": {},
   "source": [
    "## 🧩 Example 4 — Group temperatures by day"
   ]
  },
  {
   "cell_type": "code",
   "execution_count": null,
   "id": "46f34d8d",
   "metadata": {},
   "outputs": [],
   "source": [
    "\n",
    "from collections import defaultdict\n",
    "\n",
    "temps = [(\"Mon\", 20), (\"Tue\", 22), (\"Mon\", 25), (\"Tue\", 23)]\n",
    "grouped = defaultdict(list)\n",
    "\n",
    "for day, temp in temps:\n",
    "    grouped[day].append(temp)\n",
    "\n",
    "print(grouped[\"Mon\"])  # Expected: [20, 25]\n",
    "print(sum(grouped[\"Mon\"]) / len(grouped[\"Mon\"]))  # Expected average: 22.5\n"
   ]
  },
  {
   "cell_type": "markdown",
   "id": "a0afc291",
   "metadata": {},
   "source": [
    "## 🧩 Example 5 — Group employees by department"
   ]
  },
  {
   "cell_type": "code",
   "execution_count": 3,
   "id": "a446cf92",
   "metadata": {},
   "outputs": [
    {
     "name": "stdout",
     "output_type": "stream",
     "text": [
      "defaultdict(<class 'list'>, {'HR': ['Alice', 'Carol'], 'IT': ['Bob'], 'Sales': ['David']})\n",
      "['Alice', 'Carol']\n"
     ]
    }
   ],
   "source": [
    "\n",
    "from collections import defaultdict\n",
    "\n",
    "employees = [(\"HR\", \"Alice\"), (\"IT\", \"Bob\"), (\"HR\", \"Carol\"), (\"Sales\", \"David\")]\n",
    "grouped = defaultdict(list)\n",
    "\n",
    "for dept, name in employees:\n",
    "    grouped[dept].append(name)\n",
    "\n",
    "print(grouped)\n",
    "print(grouped[\"HR\"])  # Expected: ['Alice', 'Carol']\n"
   ]
  },
  {
   "cell_type": "markdown",
   "id": "45235ae7",
   "metadata": {},
   "source": [
    "\n",
    "## 🧠 Practice Questions (Try it yourself!)\n",
    "\n",
    "1. You have pairs of `(country, city)` — group cities under their countries.  \n",
    "   Example data:  \n",
    "   `[(\"Canada\", \"Vancouver\"), (\"USA\", \"Seattle\"), (\"Canada\", \"Toronto\"), (\"USA\", \"Boston\")]`\n",
    "\n",
    "2. Given a list of `(subject, score)` pairs, group all scores under their subjects.  \n",
    "   Example: `[(\"Math\", 90), (\"Science\", 80), (\"Math\", 75)]`\n",
    "\n",
    "3. You have a list of `(month, expense)` tuples — group and find total expenses per month.  \n",
    "   Example: `[(\"Jan\", 200), (\"Feb\", 300), (\"Jan\", 100)]`\n",
    "\n",
    "4. Given words like `[\"dog\", \"door\", \"cat\", \"car\", \"deer\"]`, group them by their first two letters.\n",
    "\n",
    "5. You’re given `(genre, movie)` pairs — group the movies by genre.  \n",
    "   Example: `[(\"Action\", \"Die Hard\"), (\"Drama\", \"Titanic\"), (\"Action\", \"Mad Max\")]`\n"
   ]
  },
  {
   "cell_type": "markdown",
   "id": "08161f00",
   "metadata": {},
   "source": [
    "1. You have pairs of `(country, city)` — group cities under their countries.  \n",
    "   Example data:  \n",
    "   `[(\"Canada\", \"Vancouver\"), (\"USA\", \"Seattle\"), (\"Canada\", \"Toronto\"), (\"USA\", \"Boston\")]`"
   ]
  },
  {
   "cell_type": "code",
   "execution_count": 2,
   "id": "35204805",
   "metadata": {},
   "outputs": [
    {
     "name": "stdout",
     "output_type": "stream",
     "text": [
      "defaultdict(<class 'list'>, {'Canada': ['Vancouver', 'Toronto'], 'USA': ['Seattle', 'Boston']})\n"
     ]
    }
   ],
   "source": [
    "from collections import defaultdict\n",
    "\n",
    "locations = [(\"Canada\", \"Vancouver\"), (\"USA\", \"Seattle\"), (\"Canada\", \"Toronto\"), (\"USA\", \"Boston\")]\n",
    "grouped = defaultdict(list)\n",
    "\n",
    "for country, city in locations:\n",
    "    grouped[country].append(city)\n",
    "\n",
    "print(grouped)"
   ]
  },
  {
   "cell_type": "markdown",
   "id": "c8281761",
   "metadata": {},
   "source": [
    "2. Given a list of `(subject, score)` pairs, group all scores under their subjects.  \n",
    "   Example: `[(\"Math\", 90), (\"Science\", 80), (\"Math\", 75)]`\n",
    "\n"
   ]
  },
  {
   "cell_type": "code",
   "execution_count": 4,
   "id": "f90b609c",
   "metadata": {},
   "outputs": [
    {
     "name": "stdout",
     "output_type": "stream",
     "text": [
      "defaultdict(<class 'list'>, {'Math': [90, 75], 'Science': [80]})\n"
     ]
    }
   ],
   "source": [
    "subjects_scores = [(\"Math\", 90), (\"Science\", 80), (\"Math\", 75)]\n",
    "grouped = defaultdict(list)\n",
    "\n",
    "for subject, score in subjects_scores:\n",
    "    grouped[subject].append(score)\n",
    "\n",
    "print(grouped)\n"
   ]
  },
  {
   "cell_type": "markdown",
   "id": "9957500e",
   "metadata": {},
   "source": [
    "3. You have a list of `(month, expense)` tuples — group and find total expenses per month.  \n",
    "   Example: `[(\"Jan\", 200), (\"Feb\", 300), (\"Jan\", 100)]`"
   ]
  },
  {
   "cell_type": "code",
   "execution_count": 5,
   "id": "fc0525ee",
   "metadata": {},
   "outputs": [
    {
     "name": "stdout",
     "output_type": "stream",
     "text": [
      "defaultdict(<class 'list'>, {'Jan': [200, 100], 'Feb': [300]})\n"
     ]
    }
   ],
   "source": [
    "monthly_expenses = [(\"Jan\", 200), (\"Feb\", 300), (\"Jan\", 100)]\n",
    "grouped = defaultdict(list)\n",
    "\n",
    "for month, expense in monthly_expenses:\n",
    "    grouped[month].append(expense)\n",
    "\n",
    "print(grouped)"
   ]
  },
  {
   "cell_type": "markdown",
   "id": "e79a17cf",
   "metadata": {},
   "source": [
    "4. Given words like `[\"dog\", \"door\", \"cat\", \"car\", \"deer\"]`, group them by their first two letters."
   ]
  },
  {
   "cell_type": "code",
   "execution_count": 9,
   "id": "c2f2ef1b",
   "metadata": {},
   "outputs": [
    {
     "name": "stdout",
     "output_type": "stream",
     "text": [
      "defaultdict(<class 'list'>, {'do': ['dog', 'door'], 'ca': ['cat', 'car'], 'de': ['deer']})\n",
      "['dog', 'door']\n"
     ]
    }
   ],
   "source": [
    "words = [\"dog\", \"door\", \"cat\", \"car\", \"deer\"]\n",
    "grouped = defaultdict(list)\n",
    "\n",
    "for word in words:\n",
    "    grouped[word[0:2]].append(word)\n",
    "\n",
    "print(grouped)\n",
    "print(grouped[\"do\"])\n",
    "\n"
   ]
  },
  {
   "cell_type": "markdown",
   "id": "63988b1c",
   "metadata": {},
   "source": [
    "5. You’re given `(genre, movie)` pairs — group the movies by genre.  \n",
    "   Example: `[(\"Action\", \"Die Hard\"), (\"Drama\", \"Titanic\"), (\"Action\", \"Mad Max\")]`"
   ]
  },
  {
   "cell_type": "code",
   "execution_count": 8,
   "id": "3e8fd8d6",
   "metadata": {},
   "outputs": [
    {
     "name": "stdout",
     "output_type": "stream",
     "text": [
      "defaultdict(<class 'list'>, {'Action': ['Die Hard', 'Mad Max'], 'Drama': ['Titanic']})\n"
     ]
    }
   ],
   "source": [
    "movies = [(\"Action\", \"Die Hard\"), (\"Drama\", \"Titanic\"), (\"Action\", \"Mad Max\")]\n",
    "grouped = defaultdict(list)\n",
    "\n",
    "for genre, title in movies:\n",
    "    grouped[genre].append(title)\n",
    "\n",
    "print(grouped)"
   ]
  }
 ],
 "metadata": {
  "kernelspec": {
   "display_name": "DS201",
   "language": "python",
   "name": "python3"
  },
  "language_info": {
   "codemirror_mode": {
    "name": "ipython",
    "version": 3
   },
   "file_extension": ".py",
   "mimetype": "text/x-python",
   "name": "python",
   "nbconvert_exporter": "python",
   "pygments_lexer": "ipython3",
   "version": "3.13.7"
  }
 },
 "nbformat": 4,
 "nbformat_minor": 5
}
