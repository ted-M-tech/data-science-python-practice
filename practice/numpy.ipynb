{
 "cells": [
  {
   "cell_type": "markdown",
   "id": "a554d4dc",
   "metadata": {},
   "source": [
    "1. Task 1: Creating a 1D NumPy Array\n",
    "Create a NumPy array containing the numbers from 1 to 30.\n",
    "Print the array and its shape.\n",
    "Access and print the element at index 10."
   ]
  },
  {
   "cell_type": "code",
   "execution_count": 14,
   "id": "9551c31c",
   "metadata": {},
   "outputs": [
    {
     "name": "stdout",
     "output_type": "stream",
     "text": [
      "[ 1  2  3  4  5  6  7  8  9 10 11 12 13 14 15 16 17 18 19 20 21 22 23 24\n",
      " 25 26 27 28 29 30]\n",
      "(30,)\n",
      "11\n"
     ]
    }
   ],
   "source": [
    "import numpy as np\n",
    "\n",
    "arr = np.arange(1,31)\n",
    "\n",
    "print(arr)\n",
    "print(arr.shape)\n",
    "print(arr[10])"
   ]
  },
  {
   "cell_type": "markdown",
   "id": "232f4f7f",
   "metadata": {},
   "source": [
    "2. Task 2: Creating a 2D NumPy Array\n",
    "Reshape the 1D array from Task 1 into a 2D array of shape (6, 5).\n",
    "Print the entire 2D array.\n",
    "Access and print the element at row 3, column 4."
   ]
  },
  {
   "cell_type": "code",
   "execution_count": 15,
   "id": "065ad549",
   "metadata": {},
   "outputs": [
    {
     "name": "stdout",
     "output_type": "stream",
     "text": [
      "[[ 1  2  3  4  5]\n",
      " [ 6  7  8  9 10]\n",
      " [11 12 13 14 15]\n",
      " [16 17 18 19 20]\n",
      " [21 22 23 24 25]\n",
      " [26 27 28 29 30]]\n",
      "20\n"
     ]
    }
   ],
   "source": [
    "import numpy as np\n",
    "\n",
    "arr = np.arange(1,31)\n",
    "\n",
    "arr_2d = arr.reshape(6, 5)\n",
    "\n",
    "print(arr_2d)\n",
    "print(arr_2d[3][4])"
   ]
  },
  {
   "cell_type": "markdown",
   "id": "ea01a7e0",
   "metadata": {},
   "source": [
    "3. Task 3: Subsetting a 2D Array\n",
    "Extract and print the third row from the 2D array created in Task 2.\n",
    "Extract and print the first two rows and the last three columns."
   ]
  },
  {
   "cell_type": "code",
   "execution_count": 16,
   "id": "e3141aa7",
   "metadata": {},
   "outputs": [
    {
     "name": "stdout",
     "output_type": "stream",
     "text": [
      "[11 12 13 14 15]\n",
      "[[ 3  4  5]\n",
      " [ 8  9 10]]\n"
     ]
    }
   ],
   "source": [
    "print(arr_2d[2])\n",
    "print(arr_2d[:2, -3:])"
   ]
  },
  {
   "cell_type": "markdown",
   "id": "7fdea547",
   "metadata": {},
   "source": [
    "4. Task 4: Generating Random Integer Array\n",
    "Use the numpy.random module to generate a 1D array of 15 random integers\n",
    "between 10 and 100.\n",
    "Print the array and find its maximum and minimum values."
   ]
  },
  {
   "cell_type": "code",
   "execution_count": 17,
   "id": "20a29b23",
   "metadata": {},
   "outputs": [
    {
     "name": "stdout",
     "output_type": "stream",
     "text": [
      "[100  80  96  50  23  49  44  54  60  73  22  51  32  50  48]\n",
      "100\n",
      "22\n"
     ]
    }
   ],
   "source": [
    "arr_random = np.random.randint(10,101,15)\n",
    "\n",
    "print(arr_random)\n",
    "print(arr_random.max())\n",
    "print(arr_random.min())"
   ]
  },
  {
   "cell_type": "markdown",
   "id": "02d79b16",
   "metadata": {},
   "source": [
    "5. Task 5: Generating a 2D Random Array\n",
    "\n",
    "Lab: Exploring NumPy Arrays and Random Value Generation 2\n",
    "\n",
    "Generate a 2D array of shape (4, 4) with random integers between 0 and\n",
    "50.\n",
    "Print the array and find the sum of all the elements in the array."
   ]
  },
  {
   "cell_type": "code",
   "execution_count": 18,
   "id": "e32100dc",
   "metadata": {},
   "outputs": [
    {
     "name": "stdout",
     "output_type": "stream",
     "text": [
      "[[21 12 42 42]\n",
      " [25 38  4 30]\n",
      " [25 20 26 11]\n",
      " [ 3 36 41 47]]\n",
      "423\n"
     ]
    }
   ],
   "source": [
    "arr_random = np.random.randint(0,51,(4,4))\n",
    "sum = np.sum(arr_random)\n",
    "\n",
    "print(arr_random)\n",
    "print(sum)\n"
   ]
  },
  {
   "cell_type": "markdown",
   "id": "ccc417d1",
   "metadata": {},
   "source": [
    "6. Task 6: Manipulating Arrays\n",
    "Create a 2D array of random integers (shape 5, 5) between 1 and 20.\n",
    "Print the array.\n",
    "Set all values in the second row to 0.\n",
    "Replace all values greater than 10 with the value 99."
   ]
  },
  {
   "cell_type": "code",
   "execution_count": 19,
   "id": "612299d9",
   "metadata": {},
   "outputs": [
    {
     "name": "stdout",
     "output_type": "stream",
     "text": [
      "[[ 4  4  9 17 18]\n",
      " [12  8 16  4  9]\n",
      " [ 1  4 16  3 12]\n",
      " [ 3 16 10 19  1]\n",
      " [ 1  8 11  8 19]]\n",
      "[[ 4  4  9 17 18]\n",
      " [ 0  0  0  0  0]\n",
      " [ 1  4 16  3 12]\n",
      " [ 3 16 10 19  1]\n",
      " [ 1  8 11  8 19]]\n",
      "[[ 4  4  9 99 99]\n",
      " [ 0  0  0  0  0]\n",
      " [ 1  4 99  3 99]\n",
      " [ 3 99 10 99  1]\n",
      " [ 1  8 99  8 99]]\n"
     ]
    }
   ],
   "source": [
    "arr_random = np.random.randint(1,21,(5,5))\n",
    "print(arr_random)\n",
    "\n",
    "arr_random[1] = 0\n",
    "print(arr_random)\n",
    "\n",
    "arr_random[arr_random > 10] = 99\n",
    "print(arr_random)"
   ]
  },
  {
   "cell_type": "markdown",
   "id": "61abbcbd",
   "metadata": {},
   "source": [
    "7. Task 7: Arithmetic Operations on Arrays\n",
    "Create two 1D arrays of length 5 with random integers between 1 and 10.\n",
    "Perform element-wise addition, subtraction, and multiplication on the two\n",
    "arrays.\n",
    "Print the results."
   ]
  },
  {
   "cell_type": "code",
   "execution_count": 20,
   "id": "823314ae",
   "metadata": {},
   "outputs": [
    {
     "name": "stdout",
     "output_type": "stream",
     "text": [
      "[9 5 4 8 5]\n",
      "[ 8 10  6  7  8]\n",
      "addtion: [17 15 10 15 13]\n",
      "substract: [ 1 -5 -2  1 -3]\n",
      "multiplication: [72 50 24 56 40]\n"
     ]
    }
   ],
   "source": [
    "arr_1 = np.random.randint(1,11,5)\n",
    "arr_2 = np.random.randint(1,11,5)\n",
    "print(arr_1)\n",
    "print(arr_2)\n",
    "\n",
    "add = arr_1 + arr_2\n",
    "print(f'addtion: {add}')\n",
    "\n",
    "sub = arr_1 - arr_2\n",
    "print(f'substract: {sub}')\n",
    "\n",
    "multi = arr_1 * arr_2\n",
    "print(f'multiplication: {multi}')"
   ]
  },
  {
   "cell_type": "markdown",
   "id": "fdea5ffe",
   "metadata": {},
   "source": [
    "8. Task 8: Broadcasting in NumPy\n",
    "Create a 1D array of length 4 with values [2, 4, 6, 8].\n",
    "Create a 2D array of shape (3, 4) with random integers between 1 and 5.\n",
    "Add the 1D array to each row of the 2D array using broadcasting, then\n",
    "print the result."
   ]
  },
  {
   "cell_type": "code",
   "execution_count": 21,
   "id": "e7cabf31",
   "metadata": {},
   "outputs": [
    {
     "name": "stdout",
     "output_type": "stream",
     "text": [
      "[2 4 6 8]\n",
      "[[2 4 1 2]\n",
      " [2 4 2 1]\n",
      " [2 4 1 4]]\n",
      "[[ 4  8  7 10]\n",
      " [ 4  8  8  9]\n",
      " [ 4  8  7 12]]\n"
     ]
    }
   ],
   "source": [
    "arr_1d = np.arange(2,9,2)\n",
    "print(arr_1d)\n",
    "\n",
    "arr_2d = np.random.randint(1,6,(3,4))\n",
    "print(arr_2d)\n",
    "\n",
    "add = arr_2d + arr_1d\n",
    "print(add)"
   ]
  },
  {
   "cell_type": "markdown",
   "id": "abd0efd5",
   "metadata": {},
   "source": [
    "9. Task 9: Filtering an Array\n",
    "Generate a 1D array of 20 random integers between 1 and 100.\n",
    "Print all elements of the array that are greater than 50.\n",
    "Replace all values less than 30 with -1 and print the modified array."
   ]
  },
  {
   "cell_type": "code",
   "execution_count": 22,
   "id": "3e9b6e9a",
   "metadata": {},
   "outputs": [
    {
     "name": "stdout",
     "output_type": "stream",
     "text": [
      "origin: [11 78 77 21  2 42  5 18 96 37 41  1 30  5 63 36 91 71 13 48]\n",
      "than 50: [78 77 96 63 91 71]\n",
      "replace less than 30: [-1 78 77 -1 -1 42 -1 -1 96 37 41 -1 30 -1 63 36 91 71 -1 48]\n"
     ]
    }
   ],
   "source": [
    "arr_1d = np.random.randint(1,101,20)\n",
    "arr_than_50 = arr_1d[arr_1d > 50]\n",
    "print(f'origin: {arr_1d}')\n",
    "print(f'than 50: {arr_than_50}')\n",
    "\n",
    "arr_1d[arr_1d < 30] = -1\n",
    "print(f'replace less than 30: {arr_1d}')\n"
   ]
  },
  {
   "cell_type": "markdown",
   "id": "f343e8c5",
   "metadata": {},
   "source": [
    "10. Task 10: Reshaping Arrays\n",
    "Create a 1D array of 12 random integers between 1 and 50.\n",
    "Reshape the array into a 3x4 2D array.\n",
    "Transpose the array (swap rows and columns) and print the result."
   ]
  },
  {
   "cell_type": "code",
   "execution_count": 23,
   "id": "0bc34b9c",
   "metadata": {},
   "outputs": [
    {
     "name": "stdout",
     "output_type": "stream",
     "text": [
      "[[ 9 24 38 45]\n",
      " [12 15 15  1]\n",
      " [17 17 21 31]]\n",
      "[[ 9 12 17]\n",
      " [24 15 17]\n",
      " [38 15 21]\n",
      " [45  1 31]]\n"
     ]
    }
   ],
   "source": [
    "arr_1d = np.random.randint(1,51,12)\n",
    "arr_2d = arr_1d.reshape(3,4)\n",
    "\n",
    "print(arr_2d)\n",
    "\n",
    "arr_trans = arr_2d.transpose()\n",
    "print(arr_trans)"
   ]
  },
  {
   "cell_type": "code",
   "execution_count": null,
   "id": "034e6074",
   "metadata": {},
   "outputs": [],
   "source": []
  }
 ],
 "metadata": {
  "kernelspec": {
   "display_name": "Python 3",
   "language": "python",
   "name": "python3"
  },
  "language_info": {
   "codemirror_mode": {
    "name": "ipython",
    "version": 3
   },
   "file_extension": ".py",
   "mimetype": "text/x-python",
   "name": "python",
   "nbconvert_exporter": "python",
   "pygments_lexer": "ipython3",
   "version": "3.13.7"
  }
 },
 "nbformat": 4,
 "nbformat_minor": 5
}
