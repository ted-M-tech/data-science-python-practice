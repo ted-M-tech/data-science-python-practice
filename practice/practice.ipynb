{
 "cells": [
  {
   "cell_type": "markdown",
   "id": "5ab6f8ca",
   "metadata": {},
   "source": [
    "# 8. palindromic words"
   ]
  },
  {
   "cell_type": "code",
   "execution_count": 2,
   "id": "b1196e41",
   "metadata": {},
   "outputs": [
    {
     "name": "stdout",
     "output_type": "stream",
     "text": [
      "radar\n",
      "level\n",
      "kayak\n"
     ]
    }
   ],
   "source": [
    "words = [\"radar\", \"hello\", \"level\", \"world\", \"kayak\"]\n",
    "\n",
    "palindromic_count = 0\n",
    "\n",
    "for word in words:\n",
    "    reversed_word = word[::-1]\n",
    "    if word == reversed_word:\n",
    "        palindromic_count += 1\n",
    "        print(f'{reversed_word}')"
   ]
  },
  {
   "cell_type": "markdown",
   "id": "5f95bbba",
   "metadata": {},
   "source": [
    "9. Customer Names to Uppercase"
   ]
  },
  {
   "cell_type": "code",
   "execution_count": 1,
   "id": "d0275318",
   "metadata": {},
   "outputs": [
    {
     "name": "stdout",
     "output_type": "stream",
     "text": [
      "{'hello', 'kayak', 'level', 'radar', 'world'}\n"
     ]
    }
   ],
   "source": [
    "words = [\"radar\", \"hello\", \"level\", \"world\", \"kayak\", \"radar\"]\n",
    "\n",
    "set_words = set(words)\n",
    "print(f'{set_words}')"
   ]
  },
  {
   "cell_type": "code",
   "execution_count": null,
   "id": "7deee7df",
   "metadata": {},
   "outputs": [],
   "source": []
  }
 ],
 "metadata": {
  "kernelspec": {
   "display_name": "DS201",
   "language": "python",
   "name": "python3"
  },
  "language_info": {
   "codemirror_mode": {
    "name": "ipython",
    "version": 3
   },
   "file_extension": ".py",
   "mimetype": "text/x-python",
   "name": "python",
   "nbconvert_exporter": "python",
   "pygments_lexer": "ipython3",
   "version": "3.13.7"
  }
 },
 "nbformat": 4,
 "nbformat_minor": 5
}
