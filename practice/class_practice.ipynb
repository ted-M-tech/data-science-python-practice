{
 "cells": [
  {
   "cell_type": "code",
   "execution_count": 1,
   "id": "9077f25b",
   "metadata": {},
   "outputs": [],
   "source": [
    "class temperature:\n",
    "\n",
    "    def __init__(self,degrees_celcius) -> None:\n",
    "        self.degrees_celcius = degrees_celcius\n",
    "\n",
    "    def celcius_to_fahrenheit(self) -> float:\n",
    "        degrees_fahrenheit = self.degrees_celcius * 1.8 + 32\n",
    "        return degrees_fahrenheit\n"
   ]
  },
  {
   "cell_type": "code",
   "execution_count": 2,
   "id": "8b3fa800",
   "metadata": {},
   "outputs": [
    {
     "data": {
      "text/plain": [
       "50.0"
      ]
     },
     "execution_count": 2,
     "metadata": {},
     "output_type": "execute_result"
    }
   ],
   "source": [
    "vancouber_temperature = temperature(10)\n",
    "vancouber_temperature.celcius_to_fahrenheit()"
   ]
  },
  {
   "cell_type": "code",
   "execution_count": 21,
   "id": "3c6ff2e9",
   "metadata": {},
   "outputs": [],
   "source": [
    "class euclidean_distance():\n",
    "\n",
    "    def __init__(self, p, q):\n",
    "        self.p = p\n",
    "        self.q = q\n",
    "\n",
    "    def calculate(self):\n",
    "        euclidean_distance = (sum((px - qx) ** 2.0 for px, qx in zip(self.p, self.q)))**0.5\n",
    "        return euclidean_distance\n"
   ]
  },
  {
   "cell_type": "code",
   "execution_count": 22,
   "id": "9473194f",
   "metadata": {},
   "outputs": [
    {
     "data": {
      "text/plain": [
       "4.242640687119285"
      ]
     },
     "execution_count": 22,
     "metadata": {},
     "output_type": "execute_result"
    }
   ],
   "source": [
    "ed = euclidean_distance([1,1],[4,4])\n",
    "ed.calculate()"
   ]
  },
  {
   "cell_type": "code",
   "execution_count": null,
   "id": "a65a8746",
   "metadata": {},
   "outputs": [],
   "source": []
  }
 ],
 "metadata": {
  "kernelspec": {
   "display_name": "DS201",
   "language": "python",
   "name": "python3"
  },
  "language_info": {
   "codemirror_mode": {
    "name": "ipython",
    "version": 3
   },
   "file_extension": ".py",
   "mimetype": "text/x-python",
   "name": "python",
   "nbconvert_exporter": "python",
   "pygments_lexer": "ipython3",
   "version": "3.13.7"
  }
 },
 "nbformat": 4,
 "nbformat_minor": 5
}
